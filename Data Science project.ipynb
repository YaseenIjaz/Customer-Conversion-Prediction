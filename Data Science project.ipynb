{
 "cells": [
  {
   "cell_type": "code",
   "execution_count": 136,
   "id": "21fd8a79",
   "metadata": {},
   "outputs": [],
   "source": [
    "import pandas as pd\n",
    "import numpy as np\n",
    "import statistics as st\n",
    "import matplotlib.pyplot as plt\n",
    "import seaborn as sns\n",
    "import imblearn"
   ]
  },
  {
   "cell_type": "code",
   "execution_count": 63,
   "id": "eef7f2f9",
   "metadata": {},
   "outputs": [],
   "source": [
    "import warnings\n",
    "\n",
    "warnings.filterwarnings(\"ignore\", category=FutureWarning, module=\"seaborn\")\n",
    "warnings.filterwarnings(\"ignore\", category=FutureWarning, module=\"sklearn\")\n",
    "warnings.simplefilter(action='ignore', category=FutureWarning)\n",
    "warnings.simplefilter(action='ignore', category=FutureWarning)\n",
    "\n",
    "\n"
   ]
  },
  {
   "cell_type": "code",
   "execution_count": 64,
   "id": "274b9ac1",
   "metadata": {},
   "outputs": [],
   "source": [
    "df=pd.read_csv(r\"C:\\Users\\Imthiyas\\Downloads\\train (1).csv\")"
   ]
  },
  {
   "cell_type": "code",
   "execution_count": 65,
   "id": "929756e1",
   "metadata": {},
   "outputs": [
    {
     "data": {
      "text/html": [
       "<div>\n",
       "<style scoped>\n",
       "    .dataframe tbody tr th:only-of-type {\n",
       "        vertical-align: middle;\n",
       "    }\n",
       "\n",
       "    .dataframe tbody tr th {\n",
       "        vertical-align: top;\n",
       "    }\n",
       "\n",
       "    .dataframe thead th {\n",
       "        text-align: right;\n",
       "    }\n",
       "</style>\n",
       "<table border=\"1\" class=\"dataframe\">\n",
       "  <thead>\n",
       "    <tr style=\"text-align: right;\">\n",
       "      <th></th>\n",
       "      <th>age</th>\n",
       "      <th>job</th>\n",
       "      <th>marital</th>\n",
       "      <th>education_qual</th>\n",
       "      <th>call_type</th>\n",
       "      <th>day</th>\n",
       "      <th>mon</th>\n",
       "      <th>dur</th>\n",
       "      <th>num_calls</th>\n",
       "      <th>prev_outcome</th>\n",
       "      <th>y</th>\n",
       "    </tr>\n",
       "  </thead>\n",
       "  <tbody>\n",
       "    <tr>\n",
       "      <th>0</th>\n",
       "      <td>58</td>\n",
       "      <td>management</td>\n",
       "      <td>married</td>\n",
       "      <td>tertiary</td>\n",
       "      <td>unknown</td>\n",
       "      <td>5</td>\n",
       "      <td>may</td>\n",
       "      <td>261</td>\n",
       "      <td>1</td>\n",
       "      <td>unknown</td>\n",
       "      <td>no</td>\n",
       "    </tr>\n",
       "    <tr>\n",
       "      <th>1</th>\n",
       "      <td>44</td>\n",
       "      <td>technician</td>\n",
       "      <td>single</td>\n",
       "      <td>secondary</td>\n",
       "      <td>unknown</td>\n",
       "      <td>5</td>\n",
       "      <td>may</td>\n",
       "      <td>151</td>\n",
       "      <td>1</td>\n",
       "      <td>unknown</td>\n",
       "      <td>no</td>\n",
       "    </tr>\n",
       "    <tr>\n",
       "      <th>2</th>\n",
       "      <td>33</td>\n",
       "      <td>entrepreneur</td>\n",
       "      <td>married</td>\n",
       "      <td>secondary</td>\n",
       "      <td>unknown</td>\n",
       "      <td>5</td>\n",
       "      <td>may</td>\n",
       "      <td>76</td>\n",
       "      <td>1</td>\n",
       "      <td>unknown</td>\n",
       "      <td>no</td>\n",
       "    </tr>\n",
       "    <tr>\n",
       "      <th>3</th>\n",
       "      <td>47</td>\n",
       "      <td>blue-collar</td>\n",
       "      <td>married</td>\n",
       "      <td>unknown</td>\n",
       "      <td>unknown</td>\n",
       "      <td>5</td>\n",
       "      <td>may</td>\n",
       "      <td>92</td>\n",
       "      <td>1</td>\n",
       "      <td>unknown</td>\n",
       "      <td>no</td>\n",
       "    </tr>\n",
       "    <tr>\n",
       "      <th>4</th>\n",
       "      <td>33</td>\n",
       "      <td>unknown</td>\n",
       "      <td>single</td>\n",
       "      <td>unknown</td>\n",
       "      <td>unknown</td>\n",
       "      <td>5</td>\n",
       "      <td>may</td>\n",
       "      <td>198</td>\n",
       "      <td>1</td>\n",
       "      <td>unknown</td>\n",
       "      <td>no</td>\n",
       "    </tr>\n",
       "    <tr>\n",
       "      <th>...</th>\n",
       "      <td>...</td>\n",
       "      <td>...</td>\n",
       "      <td>...</td>\n",
       "      <td>...</td>\n",
       "      <td>...</td>\n",
       "      <td>...</td>\n",
       "      <td>...</td>\n",
       "      <td>...</td>\n",
       "      <td>...</td>\n",
       "      <td>...</td>\n",
       "      <td>...</td>\n",
       "    </tr>\n",
       "    <tr>\n",
       "      <th>45206</th>\n",
       "      <td>51</td>\n",
       "      <td>technician</td>\n",
       "      <td>married</td>\n",
       "      <td>tertiary</td>\n",
       "      <td>cellular</td>\n",
       "      <td>17</td>\n",
       "      <td>nov</td>\n",
       "      <td>977</td>\n",
       "      <td>3</td>\n",
       "      <td>unknown</td>\n",
       "      <td>yes</td>\n",
       "    </tr>\n",
       "    <tr>\n",
       "      <th>45207</th>\n",
       "      <td>71</td>\n",
       "      <td>retired</td>\n",
       "      <td>divorced</td>\n",
       "      <td>primary</td>\n",
       "      <td>cellular</td>\n",
       "      <td>17</td>\n",
       "      <td>nov</td>\n",
       "      <td>456</td>\n",
       "      <td>2</td>\n",
       "      <td>unknown</td>\n",
       "      <td>yes</td>\n",
       "    </tr>\n",
       "    <tr>\n",
       "      <th>45208</th>\n",
       "      <td>72</td>\n",
       "      <td>retired</td>\n",
       "      <td>married</td>\n",
       "      <td>secondary</td>\n",
       "      <td>cellular</td>\n",
       "      <td>17</td>\n",
       "      <td>nov</td>\n",
       "      <td>1127</td>\n",
       "      <td>5</td>\n",
       "      <td>success</td>\n",
       "      <td>yes</td>\n",
       "    </tr>\n",
       "    <tr>\n",
       "      <th>45209</th>\n",
       "      <td>57</td>\n",
       "      <td>blue-collar</td>\n",
       "      <td>married</td>\n",
       "      <td>secondary</td>\n",
       "      <td>telephone</td>\n",
       "      <td>17</td>\n",
       "      <td>nov</td>\n",
       "      <td>508</td>\n",
       "      <td>4</td>\n",
       "      <td>unknown</td>\n",
       "      <td>no</td>\n",
       "    </tr>\n",
       "    <tr>\n",
       "      <th>45210</th>\n",
       "      <td>37</td>\n",
       "      <td>entrepreneur</td>\n",
       "      <td>married</td>\n",
       "      <td>secondary</td>\n",
       "      <td>cellular</td>\n",
       "      <td>17</td>\n",
       "      <td>nov</td>\n",
       "      <td>361</td>\n",
       "      <td>2</td>\n",
       "      <td>other</td>\n",
       "      <td>no</td>\n",
       "    </tr>\n",
       "  </tbody>\n",
       "</table>\n",
       "<p>45211 rows × 11 columns</p>\n",
       "</div>"
      ],
      "text/plain": [
       "       age           job   marital education_qual  call_type  day  mon   dur  \\\n",
       "0       58    management   married       tertiary    unknown    5  may   261   \n",
       "1       44    technician    single      secondary    unknown    5  may   151   \n",
       "2       33  entrepreneur   married      secondary    unknown    5  may    76   \n",
       "3       47   blue-collar   married        unknown    unknown    5  may    92   \n",
       "4       33       unknown    single        unknown    unknown    5  may   198   \n",
       "...    ...           ...       ...            ...        ...  ...  ...   ...   \n",
       "45206   51    technician   married       tertiary   cellular   17  nov   977   \n",
       "45207   71       retired  divorced        primary   cellular   17  nov   456   \n",
       "45208   72       retired   married      secondary   cellular   17  nov  1127   \n",
       "45209   57   blue-collar   married      secondary  telephone   17  nov   508   \n",
       "45210   37  entrepreneur   married      secondary   cellular   17  nov   361   \n",
       "\n",
       "       num_calls prev_outcome    y  \n",
       "0              1      unknown   no  \n",
       "1              1      unknown   no  \n",
       "2              1      unknown   no  \n",
       "3              1      unknown   no  \n",
       "4              1      unknown   no  \n",
       "...          ...          ...  ...  \n",
       "45206          3      unknown  yes  \n",
       "45207          2      unknown  yes  \n",
       "45208          5      success  yes  \n",
       "45209          4      unknown   no  \n",
       "45210          2        other   no  \n",
       "\n",
       "[45211 rows x 11 columns]"
      ]
     },
     "execution_count": 65,
     "metadata": {},
     "output_type": "execute_result"
    }
   ],
   "source": [
    "pd.set_option('display.max_columns', None)\n",
    "df"
   ]
  },
  {
   "cell_type": "markdown",
   "id": "06d8a043",
   "metadata": {},
   "source": [
    "### Data Insights\n",
    "#### Features\n",
    "**Age:** Continuous feature representing the customer's age.\n",
    "\n",
    "**Job:** Multi-class categorical feature indicating the customer's job type.\n",
    "\n",
    "**Marital:** Multi-class categorical feature denoting the customer's marital status (single, married, divorced).\n",
    "\n",
    "**Education Qualification(education_qual):** Multi-class categorical feature specifying the customer's educational qualification.\n",
    "\n",
    "**Call Type:** Multi-class categorical feature describing the type of call in which company employees contacted the customer.\n",
    "\n",
    "**Day:** Continuous feature indicating the day of the month when employees contacted the customer.\n",
    "\n",
    "**Month(mon):** Multi-class categorical feature denoting the month when employees contacted the customer.\n",
    "\n",
    "**Duration (dur):** Continuous feature representing the duration of the call in seconds. A longer duration may indicate a higher likelihood of the customer taking insurance.\n",
    "\n",
    "**Number of Calls (num_calls):** Continuous feature representing the number of calls made to the customer by employees.\n",
    "\n",
    "**Previous Outcome (prev_outcome):** Multi-class categorical feature indicating the status of the previous call made to the customer.\n",
    "\n",
    "#### Target\n",
    "**Y:** Binary categorical target variable indicating whether the customer opted for insurance or not. The target variable is imbalanced, and balancing is needed."
   ]
  },
  {
   "cell_type": "markdown",
   "id": "0e944320",
   "metadata": {},
   "source": [
    "## Standard Cleaning"
   ]
  },
  {
   "cell_type": "code",
   "execution_count": 66,
   "id": "06d00922",
   "metadata": {},
   "outputs": [
    {
     "data": {
      "text/plain": [
       "(45211, 11)"
      ]
     },
     "execution_count": 66,
     "metadata": {},
     "output_type": "execute_result"
    }
   ],
   "source": [
    "df.shape"
   ]
  },
  {
   "cell_type": "code",
   "execution_count": 67,
   "id": "ac04bb2a",
   "metadata": {},
   "outputs": [
    {
     "data": {
      "text/plain": [
       "Index(['age', 'job', 'marital', 'education_qual', 'call_type', 'day', 'mon',\n",
       "       'dur', 'num_calls', 'prev_outcome', 'y'],\n",
       "      dtype='object')"
      ]
     },
     "execution_count": 67,
     "metadata": {},
     "output_type": "execute_result"
    }
   ],
   "source": [
    "df.keys()"
   ]
  },
  {
   "cell_type": "code",
   "execution_count": 68,
   "id": "d5edd154",
   "metadata": {},
   "outputs": [
    {
     "data": {
      "text/plain": [
       "age               0\n",
       "job               0\n",
       "marital           0\n",
       "education_qual    0\n",
       "call_type         0\n",
       "day               0\n",
       "mon               0\n",
       "dur               0\n",
       "num_calls         0\n",
       "prev_outcome      0\n",
       "y                 0\n",
       "dtype: int64"
      ]
     },
     "execution_count": 68,
     "metadata": {},
     "output_type": "execute_result"
    }
   ],
   "source": [
    "df.isnull().sum()"
   ]
  },
  {
   "cell_type": "code",
   "execution_count": 69,
   "id": "27746e9b",
   "metadata": {},
   "outputs": [
    {
     "data": {
      "text/plain": [
       "age                int64\n",
       "job               object\n",
       "marital           object\n",
       "education_qual    object\n",
       "call_type         object\n",
       "day                int64\n",
       "mon               object\n",
       "dur                int64\n",
       "num_calls          int64\n",
       "prev_outcome      object\n",
       "y                 object\n",
       "dtype: object"
      ]
     },
     "execution_count": 69,
     "metadata": {},
     "output_type": "execute_result"
    }
   ],
   "source": [
    "df.dtypes\n",
    "# All features and the target have the appropriate data types."
   ]
  },
  {
   "cell_type": "code",
   "execution_count": 70,
   "id": "eb2ab6ca",
   "metadata": {},
   "outputs": [],
   "source": [
    "df = df.drop_duplicates()"
   ]
  },
  {
   "cell_type": "code",
   "execution_count": 71,
   "id": "0454db57",
   "metadata": {},
   "outputs": [
    {
     "data": {
      "text/plain": [
       "(45205, 11)"
      ]
     },
     "execution_count": 71,
     "metadata": {},
     "output_type": "execute_result"
    }
   ],
   "source": [
    "df.shape"
   ]
  },
  {
   "cell_type": "markdown",
   "id": "c6717f31",
   "metadata": {},
   "source": [
    "The number of rows has been reduced from 45,211 to 45,205."
   ]
  },
  {
   "cell_type": "markdown",
   "id": "2e09b8e5",
   "metadata": {},
   "source": [
    "## Column Wise Cleaning"
   ]
  },
  {
   "cell_type": "markdown",
   "id": "d2a3af32",
   "metadata": {},
   "source": [
    "#### AGE Column"
   ]
  },
  {
   "cell_type": "code",
   "execution_count": 72,
   "id": "02da39e2",
   "metadata": {},
   "outputs": [
    {
     "data": {
      "text/plain": [
       "age\n",
       "32    2084\n",
       "31    1996\n",
       "33    1972\n",
       "34    1929\n",
       "35    1894\n",
       "      ... \n",
       "93       2\n",
       "90       2\n",
       "95       2\n",
       "88       2\n",
       "94       1\n",
       "Name: count, Length: 77, dtype: int64"
      ]
     },
     "execution_count": 72,
     "metadata": {},
     "output_type": "execute_result"
    }
   ],
   "source": [
    "df['age'].value_counts()"
   ]
  },
  {
   "cell_type": "code",
   "execution_count": 73,
   "id": "65044d31",
   "metadata": {},
   "outputs": [
    {
     "data": {
      "text/plain": [
       "count    45205.000000\n",
       "mean        40.937087\n",
       "std         10.619130\n",
       "min         18.000000\n",
       "25%         33.000000\n",
       "50%         39.000000\n",
       "75%         48.000000\n",
       "max         95.000000\n",
       "Name: age, dtype: float64"
      ]
     },
     "execution_count": 73,
     "metadata": {},
     "output_type": "execute_result"
    }
   ],
   "source": [
    "df['age'].describe()\n",
    "# Upon comparing the value_counts and the summary, it appears that individuals with advanced age could be considered as outliers. It is recommended to clip these outliers."
   ]
  },
  {
   "cell_type": "code",
   "execution_count": 74,
   "id": "fbc6a135",
   "metadata": {},
   "outputs": [
    {
     "data": {
      "text/plain": [
       "(10, 70)"
      ]
     },
     "execution_count": 74,
     "metadata": {},
     "output_type": "execute_result"
    }
   ],
   "source": [
    "q1 = df['age'].quantile(0.25)\n",
    "q3 = df['age'].quantile(0.75)\n",
    "iqr = q3 - q1\n",
    "\n",
    "lower_threshold = round(q1-(1.5*iqr))\n",
    "upper_threshold = round(q3+(1.5*iqr))\n",
    "\n",
    "lower_threshold, upper_threshold"
   ]
  },
  {
   "cell_type": "code",
   "execution_count": 75,
   "id": "2bed5fd8",
   "metadata": {},
   "outputs": [],
   "source": [
    "# Applying outlier clipping to the 'age' column.\n",
    "df.loc[:, 'age'] = df['age'].clip(lower_threshold, upper_threshold)"
   ]
  },
  {
   "cell_type": "code",
   "execution_count": 76,
   "id": "53516efe",
   "metadata": {},
   "outputs": [
    {
     "data": {
      "text/plain": [
       "count    45205.000000\n",
       "mean        40.863666\n",
       "std         10.380009\n",
       "min         18.000000\n",
       "25%         33.000000\n",
       "50%         39.000000\n",
       "75%         48.000000\n",
       "max         70.000000\n",
       "Name: age, dtype: float64"
      ]
     },
     "execution_count": 76,
     "metadata": {},
     "output_type": "execute_result"
    }
   ],
   "source": [
    "df['age'].describe()"
   ]
  },
  {
   "cell_type": "markdown",
   "id": "91361a62",
   "metadata": {},
   "source": [
    "#### JOB Column"
   ]
  },
  {
   "cell_type": "code",
   "execution_count": 77,
   "id": "f34c3a2a",
   "metadata": {},
   "outputs": [
    {
     "data": {
      "text/plain": [
       "job\n",
       "blue-collar      9730\n",
       "management       9457\n",
       "technician       7596\n",
       "admin.           5170\n",
       "services         4153\n",
       "retired          2264\n",
       "self-employed    1579\n",
       "entrepreneur     1487\n",
       "unemployed       1303\n",
       "housemaid        1240\n",
       "student           938\n",
       "unknown           288\n",
       "Name: count, dtype: int64"
      ]
     },
     "execution_count": 77,
     "metadata": {},
     "output_type": "execute_result"
    }
   ],
   "source": [
    "df['job'].value_counts()"
   ]
  },
  {
   "cell_type": "code",
   "execution_count": 78,
   "id": "5e82f056",
   "metadata": {},
   "outputs": [
    {
     "data": {
      "text/plain": [
       "288"
      ]
     },
     "execution_count": 78,
     "metadata": {},
     "output_type": "execute_result"
    }
   ],
   "source": [
    "df.loc[df['job'] == 'unknown', 'job'] = np.nan\n",
    "df['job'].isnull().sum()"
   ]
  },
  {
   "cell_type": "code",
   "execution_count": 79,
   "id": "99769c1d",
   "metadata": {},
   "outputs": [
    {
     "data": {
      "text/plain": [
       "job\n",
       "blue-collar      10018\n",
       "management        9457\n",
       "technician        7596\n",
       "admin.            5170\n",
       "services          4153\n",
       "retired           2264\n",
       "self-employed     1579\n",
       "entrepreneur      1487\n",
       "unemployed        1303\n",
       "housemaid         1240\n",
       "student            938\n",
       "Name: count, dtype: int64"
      ]
     },
     "execution_count": 79,
     "metadata": {},
     "output_type": "execute_result"
    }
   ],
   "source": [
    "# Imputing the missing values using the mode.\n",
    "df = df.fillna({'job' : st.mode(df['job'])})\n",
    "df['job'].value_counts()"
   ]
  },
  {
   "cell_type": "markdown",
   "id": "6408300b",
   "metadata": {},
   "source": [
    "#### MARITAL Column"
   ]
  },
  {
   "cell_type": "code",
   "execution_count": 80,
   "id": "ae9d031b",
   "metadata": {},
   "outputs": [
    {
     "data": {
      "text/plain": [
       "marital\n",
       "married     27210\n",
       "single      12788\n",
       "divorced     5207\n",
       "Name: count, dtype: int64"
      ]
     },
     "execution_count": 80,
     "metadata": {},
     "output_type": "execute_result"
    }
   ],
   "source": [
    "df['marital'].value_counts()\n",
    "# No imputations or corrections are required for this column."
   ]
  },
  {
   "cell_type": "markdown",
   "id": "c8fc0311",
   "metadata": {},
   "source": [
    "#### EDUCATIONAL QUALIFICATION Column"
   ]
  },
  {
   "cell_type": "code",
   "execution_count": 81,
   "id": "65ee3a72",
   "metadata": {},
   "outputs": [
    {
     "data": {
      "text/plain": [
       "education_qual\n",
       "secondary    23199\n",
       "tertiary     13299\n",
       "primary       6850\n",
       "unknown       1857\n",
       "Name: count, dtype: int64"
      ]
     },
     "execution_count": 81,
     "metadata": {},
     "output_type": "execute_result"
    }
   ],
   "source": [
    "df['education_qual'].value_counts()"
   ]
  },
  {
   "cell_type": "code",
   "execution_count": 82,
   "id": "c2a5e0ec",
   "metadata": {},
   "outputs": [
    {
     "data": {
      "text/plain": [
       "education_qual\n",
       "secondary    25056\n",
       "tertiary     13299\n",
       "primary       6850\n",
       "Name: count, dtype: int64"
      ]
     },
     "execution_count": 82,
     "metadata": {},
     "output_type": "execute_result"
    }
   ],
   "source": [
    "# Imputing 'unknown' using the mode.\n",
    "df.loc[df['education_qual'] == 'unknown', 'education_qual'] = st.mode(df['education_qual'])\n",
    "df['education_qual'].value_counts()"
   ]
  },
  {
   "cell_type": "markdown",
   "id": "1f2d807a",
   "metadata": {},
   "source": [
    "#### CALL TYPE Column"
   ]
  },
  {
   "cell_type": "code",
   "execution_count": 83,
   "id": "f42da83e",
   "metadata": {},
   "outputs": [
    {
     "data": {
      "text/plain": [
       "call_type\n",
       "cellular     29282\n",
       "unknown      13017\n",
       "telephone     2906\n",
       "Name: count, dtype: int64"
      ]
     },
     "execution_count": 83,
     "metadata": {},
     "output_type": "execute_result"
    }
   ],
   "source": [
    "df['call_type'].value_counts()\n",
    "# There are more unknown values in this column to be dropped.\n",
    "#Instead of dropping them,we choose to retain them as a distinct category."
   ]
  },
  {
   "cell_type": "markdown",
   "id": "bdc352f9",
   "metadata": {},
   "source": [
    "#### DAY Column"
   ]
  },
  {
   "cell_type": "code",
   "execution_count": 84,
   "id": "5e3ded3e",
   "metadata": {},
   "outputs": [
    {
     "data": {
      "text/plain": [
       "day\n",
       "20    2752\n",
       "18    2308\n",
       "21    2026\n",
       "17    1939\n",
       "6     1932\n",
       "5     1910\n",
       "14    1848\n",
       "8     1840\n",
       "28    1829\n",
       "7     1817\n",
       "19    1756\n",
       "29    1745\n",
       "15    1703\n",
       "12    1603\n",
       "13    1585\n",
       "30    1566\n",
       "9     1560\n",
       "11    1479\n",
       "4     1445\n",
       "16    1415\n",
       "2     1292\n",
       "27    1121\n",
       "3     1079\n",
       "26    1035\n",
       "23     939\n",
       "22     905\n",
       "25     840\n",
       "31     643\n",
       "10     524\n",
       "24     447\n",
       "1      322\n",
       "Name: count, dtype: int64"
      ]
     },
     "execution_count": 84,
     "metadata": {},
     "output_type": "execute_result"
    }
   ],
   "source": [
    "df['day'].value_counts()\n",
    "# This column contains no unstructured data, and therefore, no imputations or corrections are required."
   ]
  },
  {
   "cell_type": "markdown",
   "id": "76704b4f",
   "metadata": {},
   "source": [
    "#### MONTH Column"
   ]
  },
  {
   "cell_type": "code",
   "execution_count": 85,
   "id": "21cfdc1e",
   "metadata": {},
   "outputs": [
    {
     "data": {
      "text/plain": [
       "mon\n",
       "may    13765\n",
       "jul     6894\n",
       "aug     6245\n",
       "jun     5339\n",
       "nov     3970\n",
       "apr     2932\n",
       "feb     2649\n",
       "jan     1403\n",
       "oct      738\n",
       "sep      579\n",
       "mar      477\n",
       "dec      214\n",
       "Name: count, dtype: int64"
      ]
     },
     "execution_count": 85,
     "metadata": {},
     "output_type": "execute_result"
    }
   ],
   "source": [
    "df['mon'].value_counts()\n",
    "# This column contains no unstructured data, and as a result, no imputations or corrections are necessary."
   ]
  },
  {
   "cell_type": "markdown",
   "id": "04809715",
   "metadata": {},
   "source": [
    "#### DURATION Column"
   ]
  },
  {
   "cell_type": "code",
   "execution_count": 86,
   "id": "819d2026",
   "metadata": {},
   "outputs": [
    {
     "data": {
      "text/plain": [
       "count    45205.000000\n",
       "mean       258.183055\n",
       "std        257.538504\n",
       "min          0.000000\n",
       "25%        103.000000\n",
       "50%        180.000000\n",
       "75%        319.000000\n",
       "max       4918.000000\n",
       "Name: dur, dtype: float64"
      ]
     },
     "execution_count": 86,
     "metadata": {},
     "output_type": "execute_result"
    }
   ],
   "source": [
    "df['dur'].describe()\n",
    "# The maximum value is significantly higher than the third quartile (Q3), indicating a potential presence of outliers.\n",
    "#Thus, it is advisable to perform outlier clipping on this column."
   ]
  },
  {
   "cell_type": "code",
   "execution_count": 87,
   "id": "cad0e9fc",
   "metadata": {},
   "outputs": [
    {
     "data": {
      "text/plain": [
       "(-221, 643)"
      ]
     },
     "execution_count": 87,
     "metadata": {},
     "output_type": "execute_result"
    }
   ],
   "source": [
    "q1 = df['dur'].quantile(0.25)\n",
    "q3 = df['dur'].quantile(0.75)\n",
    "iqr = q3-q1\n",
    "\n",
    "lower_threshold = round(q1-(1.5*iqr))\n",
    "upper_threshold  = round(q3+(1.5*iqr))\n",
    "\n",
    "lower_threshold, upper_threshold"
   ]
  },
  {
   "cell_type": "code",
   "execution_count": 88,
   "id": "bdf8a96d",
   "metadata": {},
   "outputs": [
    {
     "data": {
      "text/plain": [
       "count    45205.00000\n",
       "mean       234.95620\n",
       "std        176.75476\n",
       "min          0.00000\n",
       "25%        103.00000\n",
       "50%        180.00000\n",
       "75%        319.00000\n",
       "max        643.00000\n",
       "Name: dur, dtype: float64"
      ]
     },
     "execution_count": 88,
     "metadata": {},
     "output_type": "execute_result"
    }
   ],
   "source": [
    "df.loc[:, 'dur'] = df['dur'].clip(lower_threshold, upper_threshold)\n",
    "df['dur'].describe()"
   ]
  },
  {
   "cell_type": "markdown",
   "id": "af86cb48",
   "metadata": {},
   "source": [
    "#### NUMBER OF CALLS Column"
   ]
  },
  {
   "cell_type": "code",
   "execution_count": 89,
   "id": "81ff0450",
   "metadata": {},
   "outputs": [
    {
     "data": {
      "text/plain": [
       "num_calls\n",
       "1     17542\n",
       "2     12503\n",
       "3      5521\n",
       "4      3520\n",
       "5      1764\n",
       "6      1291\n",
       "7       735\n",
       "8       540\n",
       "9       327\n",
       "10      266\n",
       "11      201\n",
       "12      155\n",
       "13      133\n",
       "14       93\n",
       "15       84\n",
       "16       79\n",
       "17       69\n",
       "18       51\n",
       "19       44\n",
       "20       43\n",
       "21       35\n",
       "22       23\n",
       "25       22\n",
       "23       22\n",
       "24       20\n",
       "29       16\n",
       "28       16\n",
       "26       13\n",
       "31       12\n",
       "27       10\n",
       "32        9\n",
       "30        8\n",
       "33        6\n",
       "34        5\n",
       "36        4\n",
       "35        4\n",
       "43        3\n",
       "38        3\n",
       "37        2\n",
       "50        2\n",
       "41        2\n",
       "46        1\n",
       "58        1\n",
       "55        1\n",
       "63        1\n",
       "51        1\n",
       "39        1\n",
       "44        1\n",
       "Name: count, dtype: int64"
      ]
     },
     "execution_count": 89,
     "metadata": {},
     "output_type": "execute_result"
    }
   ],
   "source": [
    "df['num_calls'].value_counts()\n",
    "# The number of customers with more than 10 calls is notably low.\n",
    "#Clipping is recommended for this column to address the impact of these infrequent occurrences."
   ]
  },
  {
   "cell_type": "code",
   "execution_count": 90,
   "id": "98ae50ba",
   "metadata": {},
   "outputs": [
    {
     "data": {
      "text/plain": [
       "count    45205.000000\n",
       "mean         2.763898\n",
       "std          3.098189\n",
       "min          1.000000\n",
       "25%          1.000000\n",
       "50%          2.000000\n",
       "75%          3.000000\n",
       "max         63.000000\n",
       "Name: num_calls, dtype: float64"
      ]
     },
     "execution_count": 90,
     "metadata": {},
     "output_type": "execute_result"
    }
   ],
   "source": [
    "df['num_calls'].describe()"
   ]
  },
  {
   "cell_type": "code",
   "execution_count": 91,
   "id": "3e51c4e8",
   "metadata": {},
   "outputs": [
    {
     "data": {
      "text/plain": [
       "(-2, 6)"
      ]
     },
     "execution_count": 91,
     "metadata": {},
     "output_type": "execute_result"
    }
   ],
   "source": [
    "q1 = df['num_calls'].quantile(0.25)\n",
    "q3 = df['num_calls'].quantile(0.75)\n",
    "iqr = q3-q1\n",
    "\n",
    "lower_threshold = round(q1-(1.5*iqr))\n",
    "upper_threshold  = round(q3+(1.5*iqr))\n",
    "\n",
    "lower_threshold, upper_threshold"
   ]
  },
  {
   "cell_type": "code",
   "execution_count": 92,
   "id": "6676e701",
   "metadata": {},
   "outputs": [
    {
     "data": {
      "text/plain": [
       "count    45205.000000\n",
       "mean         2.392235\n",
       "std          1.600152\n",
       "min          1.000000\n",
       "25%          1.000000\n",
       "50%          2.000000\n",
       "75%          3.000000\n",
       "max          6.000000\n",
       "Name: num_calls, dtype: float64"
      ]
     },
     "execution_count": 92,
     "metadata": {},
     "output_type": "execute_result"
    }
   ],
   "source": [
    "df.loc[:, 'num_calls'] = df['num_calls'].clip(lower_threshold, upper_threshold)\n",
    "df['num_calls'].describe()"
   ]
  },
  {
   "cell_type": "markdown",
   "id": "e1a119e4",
   "metadata": {},
   "source": [
    "#### PREVIOUS OUTCOME Column"
   ]
  },
  {
   "cell_type": "code",
   "execution_count": 93,
   "id": "71c0950d",
   "metadata": {},
   "outputs": [
    {
     "data": {
      "text/plain": [
       "prev_outcome\n",
       "unknown    36953\n",
       "failure     4901\n",
       "other       1840\n",
       "success     1511\n",
       "Name: count, dtype: int64"
      ]
     },
     "execution_count": 93,
     "metadata": {},
     "output_type": "execute_result"
    }
   ],
   "source": [
    "df['prev_outcome'].value_counts()\n",
    "#The presence of 'unknown' values in this column is considered valid and intentional;they should not be treated as null values.\n",
    "#Therefore, no imputations or corrections are required for this column."
   ]
  },
  {
   "cell_type": "markdown",
   "id": "00a87855",
   "metadata": {},
   "source": [
    "#### Y Column"
   ]
  },
  {
   "cell_type": "code",
   "execution_count": 94,
   "id": "4f43c4e7",
   "metadata": {},
   "outputs": [
    {
     "data": {
      "text/plain": [
       "y\n",
       "no     39916\n",
       "yes     5289\n",
       "Name: count, dtype: int64"
      ]
     },
     "execution_count": 94,
     "metadata": {},
     "output_type": "execute_result"
    }
   ],
   "source": [
    "df['y'].value_counts()\n",
    "# There is no unstructured data in this column, and consequently, no imputations or corrections are necessary."
   ]
  },
  {
   "cell_type": "markdown",
   "id": "fab209f5",
   "metadata": {},
   "source": [
    "### Final Validation"
   ]
  },
  {
   "cell_type": "code",
   "execution_count": 95,
   "id": "a3055f34",
   "metadata": {},
   "outputs": [
    {
     "data": {
      "text/plain": [
       "age               0\n",
       "job               0\n",
       "marital           0\n",
       "education_qual    0\n",
       "call_type         0\n",
       "day               0\n",
       "mon               0\n",
       "dur               0\n",
       "num_calls         0\n",
       "prev_outcome      0\n",
       "y                 0\n",
       "dtype: int64"
      ]
     },
     "execution_count": 95,
     "metadata": {},
     "output_type": "execute_result"
    }
   ],
   "source": [
    "df.isnull().sum()"
   ]
  },
  {
   "cell_type": "code",
   "execution_count": 96,
   "id": "0a0fcb3f",
   "metadata": {},
   "outputs": [
    {
     "data": {
      "text/plain": [
       "age                int64\n",
       "job               object\n",
       "marital           object\n",
       "education_qual    object\n",
       "call_type         object\n",
       "day                int64\n",
       "mon               object\n",
       "dur                int64\n",
       "num_calls          int64\n",
       "prev_outcome      object\n",
       "y                 object\n",
       "dtype: object"
      ]
     },
     "execution_count": 96,
     "metadata": {},
     "output_type": "execute_result"
    }
   ],
   "source": [
    "df.dtypes"
   ]
  },
  {
   "cell_type": "code",
   "execution_count": 97,
   "id": "b9acdbb2",
   "metadata": {},
   "outputs": [],
   "source": [
    "df = df.drop_duplicates()"
   ]
  },
  {
   "cell_type": "code",
   "execution_count": 98,
   "id": "53bcc95c",
   "metadata": {},
   "outputs": [
    {
     "data": {
      "text/plain": [
       "(45194, 11)"
      ]
     },
     "execution_count": 98,
     "metadata": {},
     "output_type": "execute_result"
    }
   ],
   "source": [
    "df.shape"
   ]
  },
  {
   "cell_type": "markdown",
   "id": "0b57a789",
   "metadata": {},
   "source": [
    "11 rows have been removed due to the presence of duplicate values."
   ]
  },
  {
   "cell_type": "markdown",
   "id": "2fe31aeb",
   "metadata": {},
   "source": [
    "## Visualization of the distribution of categorical features using a countplot in the dataset"
   ]
  },
  {
   "cell_type": "markdown",
   "id": "bcbd5934",
   "metadata": {},
   "source": [
    "#### JOB COLUMN"
   ]
  },
  {
   "cell_type": "code",
   "execution_count": 99,
   "id": "27240dfd",
   "metadata": {},
   "outputs": [
    {
     "data": {
      "text/plain": [
       "job\n",
       "admin.            5170\n",
       "blue-collar      10015\n",
       "entrepreneur      1487\n",
       "housemaid         1240\n",
       "management        9455\n",
       "retired           2263\n",
       "self-employed     1579\n",
       "services          4152\n",
       "student            937\n",
       "technician        7593\n",
       "unemployed        1303\n",
       "Name: count, dtype: int64"
      ]
     },
     "execution_count": 99,
     "metadata": {},
     "output_type": "execute_result"
    }
   ],
   "source": [
    "df['job'].value_counts().sort_index()"
   ]
  },
  {
   "cell_type": "code",
   "execution_count": 100,
   "id": "27c85951",
   "metadata": {},
   "outputs": [
    {
     "data": {
      "text/plain": [
       "Text(0.5, 1.0, 'Customers According to Job')"
      ]
     },
     "execution_count": 100,
     "metadata": {},
     "output_type": "execute_result"
    },
    {
     "data": {
      "image/png": "[encoded data removed]",
      "text/plain": [
       "<Figure size 432x288 with 1 Axes>"
      ]
     },
     "metadata": {
      "needs_background": "light"
     },
     "output_type": "display_data"
    }
   ],
   "source": [
    "order = df['job'].value_counts().index.tolist()[::-1]\n",
    "\n",
    "sns.countplot(x='job', data=df, order=order)\n",
    "plt.xticks(rotation=90)\n",
    "plt.xlabel('Job')\n",
    "plt.ylabel('Count')\n",
    "plt.title('Customers According to Job')"
   ]
  },
  {
   "cell_type": "markdown",
   "id": "9d57ed3c",
   "metadata": {},
   "source": [
    "#### Insights\n",
    "Based on the distribution of the 'job' feature, it is evident that the majority of calls were directed towards individuals with occupations in blue-collar, followed by management and technicians.\n",
    "\n",
    "Conversely, the fewest calls were observed for individuals with job roles categorized as students, housemaids, and unemployed."
   ]
  },
  {
   "cell_type": "markdown",
   "id": "1d1cf16a",
   "metadata": {},
   "source": [
    "#### MARITAL COLUMN"
   ]
  },
  {
   "cell_type": "code",
   "execution_count": 101,
   "id": "1bebe8a0",
   "metadata": {},
   "outputs": [
    {
     "data": {
      "text/plain": [
       "Text(0.5, 1.0, 'Customers According to martial status')"
      ]
     },
     "execution_count": 101,
     "metadata": {},
     "output_type": "execute_result"
    },
    {
     "data": {
      "image/png": "[encoded data removed]",
      "text/plain": [
       "<Figure size 432x288 with 1 Axes>"
      ]
     },
     "metadata": {
      "needs_background": "light"
     },
     "output_type": "display_data"
    }
   ],
   "source": [
    "order = df['marital'].value_counts().index.tolist()[::-1]\n",
    "\n",
    "sns.countplot(x='marital', data=df, order=order)\n",
    "plt.xticks(rotation=0)\n",
    "plt.xlabel('marital')\n",
    "plt.ylabel('Count')\n",
    "plt.title('Customers According to martial status')"
   ]
  },
  {
   "cell_type": "markdown",
   "id": "25505b20",
   "metadata": {},
   "source": [
    "#### Insights\n",
    "Observing the distribution of the 'marital' feature, it is notable that the highest number of calls were directed towards individuals classified as married, followed by those identified as single. On the contrary, the fewest calls were made to individuals categorized as divorced."
   ]
  },
  {
   "cell_type": "markdown",
   "id": "91980cde",
   "metadata": {},
   "source": [
    "#### EDUCATIONAL QUALIFICATION COLUMN"
   ]
  },
  {
   "cell_type": "code",
   "execution_count": 102,
   "id": "c0d4913e",
   "metadata": {},
   "outputs": [
    {
     "data": {
      "text/plain": [
       "Text(0.5, 1.0, 'Customers According to education qualification')"
      ]
     },
     "execution_count": 102,
     "metadata": {},
     "output_type": "execute_result"
    },
    {
     "data": {
      "image/png": "[encoded data removed]",
      "text/plain": [
       "<Figure size 432x288 with 1 Axes>"
      ]
     },
     "metadata": {
      "needs_background": "light"
     },
     "output_type": "display_data"
    }
   ],
   "source": [
    "order = df['education_qual'].value_counts().index.tolist()[::-1]\n",
    "\n",
    "sns.countplot(x='education_qual', data=df, order=order)\n",
    "plt.xticks(rotation=0)\n",
    "plt.xlabel('Education Qualification')\n",
    "plt.ylabel('Count')\n",
    "plt.title('Customers According to education qualification')"
   ]
  },
  {
   "cell_type": "markdown",
   "id": "4604ffd3",
   "metadata": {},
   "source": [
    "#### Insights\n",
    "\n",
    "Analyzing the distribution of the 'education_qual' feature, it is apparent that the majority of calls were directed towards individuals with a secondary education, followed by those with tertiary education. Conversely, the fewest calls were made to individuals with a primary education.\n",
    " "
   ]
  },
  {
   "cell_type": "markdown",
   "id": "797b72e4",
   "metadata": {},
   "source": [
    "#### CALL TYPE COLUMN"
   ]
  },
  {
   "cell_type": "code",
   "execution_count": 103,
   "id": "dd6836c5",
   "metadata": {},
   "outputs": [
    {
     "data": {
      "text/plain": [
       "Text(0.5, 1.0, 'Customers According to call type')"
      ]
     },
     "execution_count": 103,
     "metadata": {},
     "output_type": "execute_result"
    },
    {
     "data": {
      "image/png": "[encoded data removed]",
      "text/plain": [
       "<Figure size 432x288 with 1 Axes>"
      ]
     },
     "metadata": {
      "needs_background": "light"
     },
     "output_type": "display_data"
    }
   ],
   "source": [
    "order = df['call_type'].value_counts().index.tolist()[::-1]\n",
    "\n",
    "sns.countplot(x='call_type', data=df, order=order)\n",
    "plt.xticks(rotation=0)\n",
    "plt.xlabel('Call Type')\n",
    "plt.ylabel('Count')\n",
    "plt.title('Customers According to call type')"
   ]
  },
  {
   "cell_type": "markdown",
   "id": "03479394",
   "metadata": {},
   "source": [
    "#### Insights\n",
    "\n",
    "Examining the distribution of the 'call_type' feature, it is evident that the highest number of calls were made to customers with a cellular contact preference, followed by those with an unknown contact type. Conversely, the fewest calls were made to customers who preferred telephone contact.\n",
    " "
   ]
  },
  {
   "cell_type": "markdown",
   "id": "47df8299",
   "metadata": {},
   "source": [
    "#### DAY COLUMN"
   ]
  },
  {
   "cell_type": "code",
   "execution_count": 104,
   "id": "cc4733b6",
   "metadata": {},
   "outputs": [
    {
     "data": {
      "text/plain": [
       "Text(0.5, 1.0, 'Customers According to day of the month')"
      ]
     },
     "execution_count": 104,
     "metadata": {},
     "output_type": "execute_result"
    },
    {
     "data": {
      "image/png": "[encoded data removed]",
      "text/plain": [
       "<Figure size 432x288 with 1 Axes>"
      ]
     },
     "metadata": {
      "needs_background": "light"
     },
     "output_type": "display_data"
    }
   ],
   "source": [
    "order = df['day'].value_counts().index.tolist()[::-1]\n",
    "\n",
    "sns.countplot(x='day', data=df, order=order)\n",
    "plt.xticks(rotation=90)\n",
    "plt.xlabel('Day Of The Month')\n",
    "plt.ylabel('Count')\n",
    "plt.title('Customers According to day of the month')"
   ]
  },
  {
   "cell_type": "markdown",
   "id": "9413ec5a",
   "metadata": {},
   "source": [
    "### Insights\n",
    " Acc to the distribution of 'day' feature, most calls were made on 20th day followed by 18th day followed by 21st day.  Least calls were made on 1st, 24th, 10th days\n",
    " "
   ]
  },
  {
   "cell_type": "markdown",
   "id": "b48c5eb7",
   "metadata": {},
   "source": [
    "#### MONTH COLUMN"
   ]
  },
  {
   "cell_type": "code",
   "execution_count": 105,
   "id": "bc71b3bb",
   "metadata": {},
   "outputs": [
    {
     "data": {
      "text/plain": [
       "Text(0.5, 1.0, 'Customers According to month')"
      ]
     },
     "execution_count": 105,
     "metadata": {},
     "output_type": "execute_result"
    },
    {
     "data": {
      "image/png": "[encoded data removed]",
      "text/plain": [
       "<Figure size 432x288 with 1 Axes>"
      ]
     },
     "metadata": {
      "needs_background": "light"
     },
     "output_type": "display_data"
    }
   ],
   "source": [
    "order = df['mon'].value_counts().index.tolist()[::-1]\n",
    "\n",
    "sns.countplot(x='mon', data=df, order=order)\n",
    "plt.xticks(rotation=90)\n",
    "plt.xlabel('Month')\n",
    "plt.ylabel('Count')\n",
    "plt.title('Customers According to month')"
   ]
  },
  {
   "cell_type": "markdown",
   "id": "39b0210f",
   "metadata": {},
   "source": [
    "#### Insights\n",
    "\n",
    "Based on the distribution of the 'mon' feature, it is observed that the majority of calls were made in May, followed by July and August. Conversely, the fewest calls were recorded in December, March, and September.\n",
    " "
   ]
  },
  {
   "cell_type": "markdown",
   "id": "51908dc1",
   "metadata": {},
   "source": [
    "#### PREVIOUS OUTCOME COLUMN"
   ]
  },
  {
   "cell_type": "code",
   "execution_count": 106,
   "id": "f3960cf4",
   "metadata": {},
   "outputs": [
    {
     "data": {
      "text/plain": [
       "Text(0.5, 1.0, 'Customers According to previous outcome')"
      ]
     },
     "execution_count": 106,
     "metadata": {},
     "output_type": "execute_result"
    },
    {
     "data": {
      "image/png": "[encoded data removed]",
      "text/plain": [
       "<Figure size 432x288 with 1 Axes>"
      ]
     },
     "metadata": {
      "needs_background": "light"
     },
     "output_type": "display_data"
    }
   ],
   "source": [
    "order = df['prev_outcome'].value_counts().index.tolist()[::-1]\n",
    "\n",
    "sns.countplot(x='prev_outcome', data=df, order=order)\n",
    "plt.xticks(rotation=90)\n",
    "plt.xlabel('Previous Outcome')\n",
    "plt.ylabel('Count')\n",
    "plt.title('Customers According to previous outcome')"
   ]
  },
  {
   "cell_type": "markdown",
   "id": "ef589a86",
   "metadata": {},
   "source": [
    "#### Insights\n",
    "\n",
    "Analyzing the distribution of the 'prev_outcome' feature, it is apparent that the status of the majority of calls is categorized as unknown, followed by failure and other. Conversely, the fewest calls have a status labeled as success.\n"
   ]
  },
  {
   "cell_type": "markdown",
   "id": "4ae878bd",
   "metadata": {},
   "source": [
    "## Visualization of the distribution of continuous features using a boxplot in the dataset"
   ]
  },
  {
   "cell_type": "markdown",
   "id": "fa9de9a7",
   "metadata": {},
   "source": [
    "#### AGE COLUMN"
   ]
  },
  {
   "cell_type": "code",
   "execution_count": 107,
   "id": "15ca5b3f",
   "metadata": {},
   "outputs": [
    {
     "data": {
      "text/plain": [
       "Text(0.5, 1.0, 'Customers according to age')"
      ]
     },
     "execution_count": 107,
     "metadata": {},
     "output_type": "execute_result"
    },
    {
     "data": {
      "image/png": "[encoded data removed]",
      "text/plain": [
       "<Figure size 432x288 with 1 Axes>"
      ]
     },
     "metadata": {
      "needs_background": "light"
     },
     "output_type": "display_data"
    }
   ],
   "source": [
    "sns.boxplot(x = df['age'])\n",
    "plt.title('Customers according to age')"
   ]
  },
  {
   "cell_type": "markdown",
   "id": "c125bd2d",
   "metadata": {},
   "source": [
    "#### Insights\n",
    "\n",
    "Analyzing the distribution of the 'age' feature, it is observed that the majority of calls were made to individuals aged approximately between 32 and 48. The median age, representing the central tendency, is around 39.\n",
    "\n",
    "Notably, as the 'age' column has been clipped to handle outliers, no outliers are observed in this plot."
   ]
  },
  {
   "cell_type": "markdown",
   "id": "a92e6aae",
   "metadata": {},
   "source": [
    "#### NUMBER OF CALLS COLUMN"
   ]
  },
  {
   "cell_type": "code",
   "execution_count": 108,
   "id": "9d7e0b8b",
   "metadata": {},
   "outputs": [
    {
     "data": {
      "image/png": "[encoded data removed]",
      "text/plain": [
       "<Figure size 432x288 with 1 Axes>"
      ]
     },
     "metadata": {
      "needs_background": "light"
     },
     "output_type": "display_data"
    }
   ],
   "source": [
    "sns.boxplot(x=df['num_calls'])\n",
    "plt.title('Customers according to the number of calls made to a customer')\n",
    "\n",
    "if pd.api.types.is_categorical_dtype(df['num_calls']):\n",
    "    plt.xticks(rotation=90)"
   ]
  },
  {
   "cell_type": "markdown",
   "id": "3a717dde",
   "metadata": {},
   "source": [
    "#### Insights\n",
    "\n",
    "Examining the distribution of the 'num_calls' feature, it is evident that the majority of calls made to customers fall within the range of 1 to 3 calls. The median, representing the central tendency, is around 2.\n",
    "\n",
    "Notably, as the 'num_calls' column has been clipped to handle outliers, no outliers are observed in this plot.\n"
   ]
  },
  {
   "cell_type": "markdown",
   "id": "388b843c",
   "metadata": {},
   "source": [
    "## Visualization of the distribution of the target variable using a countplot in the dataset"
   ]
  },
  {
   "cell_type": "code",
   "execution_count": 109,
   "id": "260ba324",
   "metadata": {},
   "outputs": [
    {
     "data": {
      "text/plain": [
       "Text(0.5, 1.0, 'Customers According to Targe variable')"
      ]
     },
     "execution_count": 109,
     "metadata": {},
     "output_type": "execute_result"
    },
    {
     "data": {
      "image/png": "[encoded data removed]",
      "text/plain": [
       "<Figure size 432x288 with 1 Axes>"
      ]
     },
     "metadata": {
      "needs_background": "light"
     },
     "output_type": "display_data"
    }
   ],
   "source": [
    "order = df['y'].value_counts().index.tolist()[::-1]\n",
    "\n",
    "sns.countplot(x='y', data=df, order=order)\n",
    "plt.xlabel('Target')\n",
    "plt.ylabel('Count')\n",
    "plt.title('Customers According to Targe variable')"
   ]
  },
  {
   "cell_type": "markdown",
   "id": "545793c2",
   "metadata": {},
   "source": [
    "## Feature v/s Target Plot for Categorical Columns"
   ]
  },
  {
   "cell_type": "code",
   "execution_count": 110,
   "id": "fd00928f",
   "metadata": {},
   "outputs": [],
   "source": [
    "# Encoding the target variable to 1 and 0.\n",
    "df['y'] = df['y'].map({'yes' : 1, 'no' : 0})"
   ]
  },
  {
   "cell_type": "code",
   "execution_count": 111,
   "id": "138618d7",
   "metadata": {},
   "outputs": [
    {
     "data": {
      "text/plain": [
       "Text(0.5, 1.0, 'Distribution of job with respect to customers who opted for insurance')"
      ]
     },
     "execution_count": 111,
     "metadata": {},
     "output_type": "execute_result"
    },
    {
     "data": {
      "image/png": "[encoded data removed]",
      "text/plain": [
       "<Figure size 432x288 with 1 Axes>"
      ]
     },
     "metadata": {
      "needs_background": "light"
     },
     "output_type": "display_data"
    }
   ],
   "source": [
    "df.groupby('job')['y'].mean().sort_values().plot(kind = 'barh')\n",
    "plt.xlabel('Distribution of job with respect to target')\n",
    "plt.title('Distribution of job with respect to customers who opted for insurance')"
   ]
  },
  {
   "cell_type": "markdown",
   "id": "9a924a0b",
   "metadata": {},
   "source": [
    "#### Insights\n",
    "\n",
    "Analyzing the 'job' vs. 'y' barplot, it is observed that individuals who are more likely to opt for insurance include students, followed by retirees and unemployed individuals. Conversely, the least likely to opt for insurance are those in blue-collar, entrepreneur, and housemaid occupations.\n",
    "\n",
    "The plot indicates a linearly increasing pattern with respect to the target variable 'y' in relation to the 'job' column. Therefore, Label Encoding will be applied to this column for further analysis."
   ]
  },
  {
   "cell_type": "markdown",
   "id": "ae48ab0e",
   "metadata": {},
   "source": [
    "#### MARITAL COLUMN"
   ]
  },
  {
   "cell_type": "code",
   "execution_count": 112,
   "id": "b3039157",
   "metadata": {},
   "outputs": [
    {
     "data": {
      "text/plain": [
       "Text(0.5, 1.0, 'Distribution of marital status with respect to customers who opted for insurance')"
      ]
     },
     "execution_count": 112,
     "metadata": {},
     "output_type": "execute_result"
    },
    {
     "data": {
      "image/png": "[encoded data removed]",
      "text/plain": [
       "<Figure size 432x288 with 1 Axes>"
      ]
     },
     "metadata": {
      "needs_background": "light"
     },
     "output_type": "display_data"
    }
   ],
   "source": [
    "df.groupby('marital')['y'].mean().sort_values().plot(kind='barh')\n",
    "plt.xlabel('Distribution of marital status with respect to target')\n",
    "plt.title('Distribution of marital status with respect to customers who opted for insurance')"
   ]
  },
  {
   "cell_type": "markdown",
   "id": "eabc55e0",
   "metadata": {},
   "source": [
    "#### Insights\n",
    "\n",
    "Examining the 'marital' vs. 'y' barplot, it is observed that individuals most likely to opt for insurance are those who are single, followed by those who are divorced. Conversely, the least likely to opt for insurance are individuals who are married.\n",
    "\n",
    "The plot indicates a linearly increasing pattern with respect to the target variable 'y' in relation to the 'marital' column. Therefore, Label Encoding will be applied to this column for further analysis."
   ]
  },
  {
   "cell_type": "markdown",
   "id": "25e39470",
   "metadata": {},
   "source": [
    "#### EDUCATIONAL QUALIFACTION COLUMN"
   ]
  },
  {
   "cell_type": "code",
   "execution_count": 113,
   "id": "8ddc12ff",
   "metadata": {},
   "outputs": [
    {
     "data": {
      "text/plain": [
       "Text(0.5, 1.0, 'Distribution of education qualification with respect to customers who opted for insurance')"
      ]
     },
     "execution_count": 113,
     "metadata": {},
     "output_type": "execute_result"
    },
    {
     "data": {
      "image/png": "[encoded data removed]",
      "text/plain": [
       "<Figure size 432x288 with 1 Axes>"
      ]
     },
     "metadata": {
      "needs_background": "light"
     },
     "output_type": "display_data"
    }
   ],
   "source": [
    "df.groupby('education_qual')['y'].mean().sort_values().plot(kind='barh')\n",
    "plt.xlabel('Distribution of education qualification with respect to target')\n",
    "plt.title('Distribution of education qualification with respect to customers who opted for insurance')"
   ]
  },
  {
   "cell_type": "markdown",
   "id": "26441a2d",
   "metadata": {},
   "source": [
    "#### Insights\n",
    "\n",
    "Analyzing the 'education_qual' vs. 'y' barplot, it is observed that individuals most likely to opt for insurance are those with tertiary education, followed by those with secondary education. Conversely, the least likely to opt for insurance are individuals with primary education.\n",
    "\n",
    "The plot indicates a linearly increasing pattern with respect to the target variable 'y' in relation to the 'education_qual' column. Therefore, Label Encoding will be applied to this column for further analysis."
   ]
  },
  {
   "cell_type": "markdown",
   "id": "93291a67",
   "metadata": {},
   "source": [
    "#### CALL TYPE COLUMN"
   ]
  },
  {
   "cell_type": "code",
   "execution_count": 114,
   "id": "441cb899",
   "metadata": {},
   "outputs": [
    {
     "data": {
      "text/plain": [
       "Text(0.5, 1.0, 'Distribution of call type with respect to customers who opted for insurance')"
      ]
     },
     "execution_count": 114,
     "metadata": {},
     "output_type": "execute_result"
    },
    {
     "data": {
      "image/png": "[encoded data removed]",
      "text/plain": [
       "<Figure size 432x288 with 1 Axes>"
      ]
     },
     "metadata": {
      "needs_background": "light"
     },
     "output_type": "display_data"
    }
   ],
   "source": [
    "df.groupby('call_type')['y'].mean().sort_values().plot(kind='barh')\n",
    "plt.xlabel('Distribution of call type with respect to target')\n",
    "plt.title('Distribution of call type with respect to customers who opted for insurance')"
   ]
  },
  {
   "cell_type": "markdown",
   "id": "c2ba47bb",
   "metadata": {},
   "source": [
    "#### Insights\n",
    "\n",
    "Examining the 'call_type' vs. 'y' barplot, it is observed that individuals most likely to opt for insurance are those with a cellular contact preference, followed by those who prefer telephone contact. Conversely, the least likely to opt for insurance are individuals with an unknown contact type.\n",
    "\n",
    "The plot indicates a linearly increasing pattern with respect to the target variable 'y' in relation to the 'call_type' column. Therefore, Label Encoding will be applied to this column for further analysis."
   ]
  },
  {
   "cell_type": "markdown",
   "id": "5ffff876",
   "metadata": {},
   "source": [
    "#### DAY COLUMN"
   ]
  },
  {
   "cell_type": "code",
   "execution_count": 115,
   "id": "4e3244cd",
   "metadata": {},
   "outputs": [
    {
     "data": {
      "text/plain": [
       "Text(0.5, 1.0, 'Distribution of day of the month with respect to customers who opted for insurance')"
      ]
     },
     "execution_count": 115,
     "metadata": {},
     "output_type": "execute_result"
    },
    {
     "data": {
      "image/png": "[encoded data removed]",
      "text/plain": [
       "<Figure size 432x288 with 1 Axes>"
      ]
     },
     "metadata": {
      "needs_background": "light"
     },
     "output_type": "display_data"
    }
   ],
   "source": [
    "df.groupby('day')['y'].mean().sort_values().plot(kind='barh')\n",
    "plt.xlabel('Distribution of day of the month with respect to target')\n",
    "plt.title('Distribution of day of the month with respect to customers who opted for insurance')"
   ]
  },
  {
   "cell_type": "markdown",
   "id": "fb3c9ba3",
   "metadata": {},
   "source": [
    "#### Insights\n",
    "\n",
    "Analyzing the 'day' vs. 'y' barplot, it is observed that individuals most likely to opt for insurance were called on the 1st, followed by the 10th and 30th of the month. Conversely, the least likely to opt for insurance were called on the 19th, 20th, and 31st of the month."
   ]
  },
  {
   "cell_type": "markdown",
   "id": "82504e4d",
   "metadata": {},
   "source": [
    "#### MONTH COLUMN"
   ]
  },
  {
   "cell_type": "code",
   "execution_count": 116,
   "id": "02aa377d",
   "metadata": {},
   "outputs": [
    {
     "data": {
      "text/plain": [
       "Text(0.5, 1.0, 'Distribution of month with respect to customers who opted for insurance')"
      ]
     },
     "execution_count": 116,
     "metadata": {},
     "output_type": "execute_result"
    },
    {
     "data": {
      "image/png": "[encoded data removed]",
      "text/plain": [
       "<Figure size 432x288 with 1 Axes>"
      ]
     },
     "metadata": {
      "needs_background": "light"
     },
     "output_type": "display_data"
    }
   ],
   "source": [
    "df.groupby('mon')['y'].mean().sort_values().plot(kind='barh')\n",
    "plt.xlabel('Distribution of month with respect to target')\n",
    "plt.title('Distribution of month with respect to customers who opted for insurance')"
   ]
  },
  {
   "cell_type": "markdown",
   "id": "90b47967",
   "metadata": {},
   "source": [
    "#### Insights\n",
    "\n",
    "Examining the 'mon' vs. 'y' barplot, it is observed that individuals most likely to opt for insurance were called in the months of March, followed by December and September. Conversely, the least likely to opt for insurance were called in the months of May, July, and January.\n",
    "\n",
    "The plot indicates a linearly increasing pattern with respect to the target variable 'y' in relation to the 'mon' column. Therefore, Label Encoding will be applied to this column for further analysis."
   ]
  },
  {
   "cell_type": "markdown",
   "id": "1f2d88ba",
   "metadata": {},
   "source": [
    "#### PREVIOUS OUTCOME COLUMN"
   ]
  },
  {
   "cell_type": "code",
   "execution_count": 117,
   "id": "64d8114d",
   "metadata": {},
   "outputs": [
    {
     "data": {
      "text/plain": [
       "Text(0.5, 1.0, 'Distribution of prev_outcome with respect to customers who opted for insurance')"
      ]
     },
     "execution_count": 117,
     "metadata": {},
     "output_type": "execute_result"
    },
    {
     "data": {
      "image/png": "[encoded data removed]",
      "text/plain": [
       "<Figure size 432x288 with 1 Axes>"
      ]
     },
     "metadata": {
      "needs_background": "light"
     },
     "output_type": "display_data"
    }
   ],
   "source": [
    "df.groupby('prev_outcome')['y'].mean().sort_values().plot(kind='barh')\n",
    "plt.xlabel('Distribution of prev_outcome with respect to target')\n",
    "plt.title('Distribution of prev_outcome with respect to customers who opted for insurance')"
   ]
  },
  {
   "cell_type": "markdown",
   "id": "0fb7260a",
   "metadata": {},
   "source": [
    "#### Insights\n",
    "\n",
    "Analyzing the 'prev_outcome' vs. 'y' barplot, it is observed that individuals most likely to opt for insurance have a previous outcome categorized as success, followed by other and failure. Conversely, the least likely to opt for insurance have an unknown previous outcome.\n",
    "\n",
    "The plot indicates a linearly increasing pattern with respect to the target variable 'y' in relation to the 'prev_outcome' column. Therefore, Label Encoding will be applied to this column for further analysis."
   ]
  },
  {
   "cell_type": "markdown",
   "id": "5822156e",
   "metadata": {},
   "source": [
    "## Feature v/s Target Plot for Continuous Columns"
   ]
  },
  {
   "cell_type": "markdown",
   "id": "9ce22df5",
   "metadata": {},
   "source": [
    "#### AGE COLUMN"
   ]
  },
  {
   "cell_type": "code",
   "execution_count": 118,
   "id": "95fc6eab",
   "metadata": {},
   "outputs": [
    {
     "data": {
      "text/plain": [
       "Text(0, 0.5, 'Target Variable (y)')"
      ]
     },
     "execution_count": 118,
     "metadata": {},
     "output_type": "execute_result"
    },
    {
     "data": {
      "image/png": "[encoded data removed]",
      "text/plain": [
       "<Figure size 432x288 with 1 Axes>"
      ]
     },
     "metadata": {
      "needs_background": "light"
     },
     "output_type": "display_data"
    }
   ],
   "source": [
    "sns.lineplot(x=df['age'], y=df['y'])\n",
    "plt.title('Age vs Target Line Plot')\n",
    "plt.xlabel('Age')\n",
    "plt.ylabel('Target Variable (y)')"
   ]
  },
  {
   "cell_type": "markdown",
   "id": "34a5221b",
   "metadata": {},
   "source": [
    "#### Insights\n",
    "\n",
    "Analyzing the 'age' vs. 'y' lineplot, it is observed that individuals most likely to opt for insurance are in the age groups of 18-25 and 60-70. Conversely, the least likely to opt for insurance fall within the age group of 25-59.\n",
    "\n",
    "The 'age' column exhibits varying patterns with respect to the target variable 'y', showcasing both increasing and decreasing trends. Further analysis may be required to understand the nuanced relationship between age and the likelihood of opting for insurance."
   ]
  },
  {
   "cell_type": "markdown",
   "id": "4eaabb87",
   "metadata": {},
   "source": [
    "#### DURATION COLUMN"
   ]
  },
  {
   "cell_type": "code",
   "execution_count": 119,
   "id": "054ff9b4",
   "metadata": {},
   "outputs": [
    {
     "data": {
      "text/plain": [
       "Text(0, 0.5, 'Target Variable (y)')"
      ]
     },
     "execution_count": 119,
     "metadata": {},
     "output_type": "execute_result"
    },
    {
     "data": {
      "image/png": "[encoded data removed]",
      "text/plain": [
       "<Figure size 432x288 with 1 Axes>"
      ]
     },
     "metadata": {
      "needs_background": "light"
     },
     "output_type": "display_data"
    }
   ],
   "source": [
    "sns.lineplot(x=df['dur'], y=df['y'])\n",
    "plt.title('Duration (in sec) v/s Target Line Plot')\n",
    "plt.xlabel('Duration')\n",
    "plt.ylabel('Target Variable (y)')"
   ]
  },
  {
   "cell_type": "markdown",
   "id": "2fa524a8",
   "metadata": {},
   "source": [
    "#### Insights\n",
    "\n",
    "Examining the 'dur' vs. 'y' lineplot, it is observed that individuals most likely to opt for insurance had calls lasting between 450-640 seconds. Conversely, the least likely to opt for insurance had calls lasting between 0-200 seconds.\n",
    "\n",
    "The 'dur' column demonstrates a clear linearly increasing relationship with the target variable 'y'. Longer call durations appear to be associated with a higher likelihood of opting for insurance."
   ]
  },
  {
   "cell_type": "markdown",
   "id": "c01e36f6",
   "metadata": {},
   "source": [
    "#### NUMBER OF CALLS COLUMN"
   ]
  },
  {
   "cell_type": "code",
   "execution_count": 120,
   "id": "c89f646b",
   "metadata": {},
   "outputs": [
    {
     "data": {
      "text/plain": [
       "Text(0, 0.5, 'Target Variable (y)')"
      ]
     },
     "execution_count": 120,
     "metadata": {},
     "output_type": "execute_result"
    },
    {
     "data": {
      "image/png": "[encoded data removed]",
      "text/plain": [
       "<Figure size 432x288 with 1 Axes>"
      ]
     },
     "metadata": {
      "needs_background": "light"
     },
     "output_type": "display_data"
    }
   ],
   "source": [
    "sns.lineplot(x=df['num_calls'], y=df['y'])\n",
    "plt.title('Number of Calls v/s Target Line Plot')\n",
    "plt.xlabel('Number Of Calls')\n",
    "plt.ylabel('Target Variable (y)')"
   ]
  },
  {
   "cell_type": "markdown",
   "id": "0434dd4c",
   "metadata": {},
   "source": [
    "#### Insights\n",
    "\n",
    "Analyzing the 'num_calls' vs. 'y' lineplot, it is observed that individuals most likely to opt for insurance received calls 1 to 3 times. Conversely, the least likely to opt for insurance received calls 4 to 6 times.\n",
    "\n",
    "The 'num_calls' column demonstrates a clear linearly decreasing relationship with the target variable 'y'. The frequency of calls appears to have a negative correlation with the likelihood of opting for insurance."
   ]
  },
  {
   "cell_type": "markdown",
   "id": "40d2d055",
   "metadata": {},
   "source": [
    "## Encoding Categorical Columns"
   ]
  },
  {
   "cell_type": "code",
   "execution_count": 121,
   "id": "61e6418c",
   "metadata": {},
   "outputs": [],
   "source": [
    "# Since all the categorical feature follow linearly increasing relationship with target (Refer Feature v/s Target Plot),\n",
    "# Label encoding is done since the feature is behaving ordinal with respect to target variable.\n",
    "\n",
    "df['job'] = df['job'].map({'blue-collar':0, 'entrepreneur':1, 'housemaid':2, 'services':3, 'technician':4, 'self-employed':5, 'admin.':6, 'management':7, 'unemployed':8, 'retired':9, 'student':10})\n",
    "df['marital'] = df['marital'].map({'married':0,'divorced':1,'single':2})\n",
    "df['education_qual'] = df['education_qual'].map({'primary':0,'secondary':1,'tertiary':2})\n",
    "df['call_type'] = df['call_type'].map({'unknown':0,'telephone':1,'cellular':2})\n",
    "df['mon'] = df['mon'].map({'may':0, 'jul':1,  'jan':2, 'nov':3, 'jun':4, 'aug':5, 'feb':6, 'apr':7, 'oct':8, 'sep':9, 'dec':10, 'mar':11})\n",
    "df['prev_outcome'] = df['prev_outcome'].map({'unknown':0,'failure':1,'other':2,'success':3})\n"
   ]
  },
  {
   "cell_type": "code",
   "execution_count": 122,
   "id": "d623c3be",
   "metadata": {},
   "outputs": [
    {
     "data": {
      "text/html": [
       "<div>\n",
       "<style scoped>\n",
       "    .dataframe tbody tr th:only-of-type {\n",
       "        vertical-align: middle;\n",
       "    }\n",
       "\n",
       "    .dataframe tbody tr th {\n",
       "        vertical-align: top;\n",
       "    }\n",
       "\n",
       "    .dataframe thead th {\n",
       "        text-align: right;\n",
       "    }\n",
       "</style>\n",
       "<table border=\"1\" class=\"dataframe\">\n",
       "  <thead>\n",
       "    <tr style=\"text-align: right;\">\n",
       "      <th></th>\n",
       "      <th>age</th>\n",
       "      <th>job</th>\n",
       "      <th>marital</th>\n",
       "      <th>education_qual</th>\n",
       "      <th>call_type</th>\n",
       "      <th>day</th>\n",
       "      <th>mon</th>\n",
       "      <th>dur</th>\n",
       "      <th>num_calls</th>\n",
       "      <th>prev_outcome</th>\n",
       "      <th>y</th>\n",
       "    </tr>\n",
       "  </thead>\n",
       "  <tbody>\n",
       "    <tr>\n",
       "      <th>0</th>\n",
       "      <td>58</td>\n",
       "      <td>7</td>\n",
       "      <td>0</td>\n",
       "      <td>2</td>\n",
       "      <td>0</td>\n",
       "      <td>5</td>\n",
       "      <td>0</td>\n",
       "      <td>261</td>\n",
       "      <td>1</td>\n",
       "      <td>0</td>\n",
       "      <td>0</td>\n",
       "    </tr>\n",
       "    <tr>\n",
       "      <th>1</th>\n",
       "      <td>44</td>\n",
       "      <td>4</td>\n",
       "      <td>2</td>\n",
       "      <td>1</td>\n",
       "      <td>0</td>\n",
       "      <td>5</td>\n",
       "      <td>0</td>\n",
       "      <td>151</td>\n",
       "      <td>1</td>\n",
       "      <td>0</td>\n",
       "      <td>0</td>\n",
       "    </tr>\n",
       "    <tr>\n",
       "      <th>2</th>\n",
       "      <td>33</td>\n",
       "      <td>1</td>\n",
       "      <td>0</td>\n",
       "      <td>1</td>\n",
       "      <td>0</td>\n",
       "      <td>5</td>\n",
       "      <td>0</td>\n",
       "      <td>76</td>\n",
       "      <td>1</td>\n",
       "      <td>0</td>\n",
       "      <td>0</td>\n",
       "    </tr>\n",
       "    <tr>\n",
       "      <th>3</th>\n",
       "      <td>47</td>\n",
       "      <td>0</td>\n",
       "      <td>0</td>\n",
       "      <td>1</td>\n",
       "      <td>0</td>\n",
       "      <td>5</td>\n",
       "      <td>0</td>\n",
       "      <td>92</td>\n",
       "      <td>1</td>\n",
       "      <td>0</td>\n",
       "      <td>0</td>\n",
       "    </tr>\n",
       "    <tr>\n",
       "      <th>4</th>\n",
       "      <td>33</td>\n",
       "      <td>0</td>\n",
       "      <td>2</td>\n",
       "      <td>1</td>\n",
       "      <td>0</td>\n",
       "      <td>5</td>\n",
       "      <td>0</td>\n",
       "      <td>198</td>\n",
       "      <td>1</td>\n",
       "      <td>0</td>\n",
       "      <td>0</td>\n",
       "    </tr>\n",
       "  </tbody>\n",
       "</table>\n",
       "</div>"
      ],
      "text/plain": [
       "   age  job  marital  education_qual  call_type  day  mon  dur  num_calls  \\\n",
       "0   58    7        0               2          0    5    0  261          1   \n",
       "1   44    4        2               1          0    5    0  151          1   \n",
       "2   33    1        0               1          0    5    0   76          1   \n",
       "3   47    0        0               1          0    5    0   92          1   \n",
       "4   33    0        2               1          0    5    0  198          1   \n",
       "\n",
       "   prev_outcome  y  \n",
       "0             0  0  \n",
       "1             0  0  \n",
       "2             0  0  \n",
       "3             0  0  \n",
       "4             0  0  "
      ]
     },
     "execution_count": 122,
     "metadata": {},
     "output_type": "execute_result"
    }
   ],
   "source": [
    "df.head()"
   ]
  },
  {
   "cell_type": "markdown",
   "id": "8f577980",
   "metadata": {},
   "source": [
    "## Train Test Split "
   ]
  },
  {
   "cell_type": "code",
   "execution_count": 123,
   "id": "829f4eb9",
   "metadata": {},
   "outputs": [
    {
     "data": {
      "text/plain": [
       "((33895, 10), (11299, 10), (33895,), (11299,))"
      ]
     },
     "execution_count": 123,
     "metadata": {},
     "output_type": "execute_result"
    }
   ],
   "source": [
    "x = df.drop('y', axis=1)\n",
    "y = df['y']\n",
    "\n",
    "from sklearn.model_selection import train_test_split\n",
    "x_tr, x_te, y_tr, y_te = train_test_split(x,y,test_size=0.25,random_state=1)\n",
    "\n",
    "x_tr.shape, x_te.shape, y_tr.shape, y_te.shape"
   ]
  },
  {
   "cell_type": "markdown",
   "id": "b461363a",
   "metadata": {},
   "source": [
    "## Balancing the Data"
   ]
  },
  {
   "cell_type": "code",
   "execution_count": 127,
   "id": "5dd7fadd",
   "metadata": {},
   "outputs": [],
   "source": [
    "from imblearn.combine import SMOTEENN\n",
    "smt = SMOTEENN(sampling_strategy='all')\n",
    "x_smt_tr,y_smt_tr = smt.fit_resample(x_tr,y_tr)"
   ]
  },
  {
   "cell_type": "markdown",
   "id": "335c2f89",
   "metadata": {},
   "source": [
    "## Train Machine Learning Models"
   ]
  },
  {
   "cell_type": "markdown",
   "id": "c5792c93",
   "metadata": {},
   "source": [
    "### Logistic Regression"
   ]
  },
  {
   "cell_type": "code",
   "execution_count": 128,
   "id": "9877d388",
   "metadata": {},
   "outputs": [],
   "source": [
    "from sklearn.linear_model import LogisticRegression\n",
    "log_model = LogisticRegression(max_iter=1000)\n",
    "log_model.fit(x_smt_tr,y_smt_tr)\n",
    "y_pred_log = log_model.predict(x_te)"
   ]
  },
  {
   "cell_type": "code",
   "execution_count": 129,
   "id": "b0eaaa65",
   "metadata": {},
   "outputs": [
    {
     "data": {
      "text/plain": [
       "0.8924028372201928"
      ]
     },
     "execution_count": 129,
     "metadata": {},
     "output_type": "execute_result"
    }
   ],
   "source": [
    "from sklearn.model_selection import cross_val_score\n",
    "cross_val_log = cross_val_score(log_model, x_tr, y_tr, cv=10).mean()\n",
    "cross_val_log"
   ]
  },
  {
   "cell_type": "code",
   "execution_count": 130,
   "id": "8f8fe52c",
   "metadata": {},
   "outputs": [
    {
     "data": {
      "text/plain": [
       "0.88"
      ]
     },
     "execution_count": 130,
     "metadata": {},
     "output_type": "execute_result"
    }
   ],
   "source": [
    "from sklearn.metrics import roc_auc_score\n",
    "auroc_log = round(roc_auc_score(y_te, log_model.predict_proba(x_te)[:,1]),2)\n",
    "auroc_log"
   ]
  },
  {
   "cell_type": "code",
   "execution_count": 131,
   "id": "199fd239",
   "metadata": {},
   "outputs": [
    {
     "data": {
      "text/plain": [
       "array([[7384, 2646],\n",
       "       [ 158, 1111]], dtype=int64)"
      ]
     },
     "execution_count": 131,
     "metadata": {},
     "output_type": "execute_result"
    }
   ],
   "source": [
    "from sklearn.metrics import confusion_matrix\n",
    "confusion_matrix(y_te,y_pred_log)"
   ]
  },
  {
   "cell_type": "markdown",
   "id": "b0214248",
   "metadata": {},
   "source": [
    "##### Understanding\n",
    "0.88 is the AUROC score for Logistic Regression model. This is a good fit model with a descent AUROC score"
   ]
  },
  {
   "cell_type": "markdown",
   "id": "3be36818",
   "metadata": {},
   "source": [
    "### KNN ALGORITHM"
   ]
  },
  {
   "cell_type": "code",
   "execution_count": 132,
   "id": "ed58f4c0",
   "metadata": {},
   "outputs": [
    {
     "name": "stdout",
     "output_type": "stream",
     "text": [
      "K value:  1 cross_val_score:  0.8597134926375546\n",
      "K value:  2 cross_val_score:  0.8812803439202487\n",
      "K value:  3 cross_val_score:  0.8793626264393479\n",
      "K value:  4 cross_val_score:  0.8848207501103257\n",
      "K value:  5 cross_val_score:  0.8835521655607984\n",
      "K value:  6 cross_val_score:  0.884260208500345\n",
      "K value:  7 cross_val_score:  0.8837292872742022\n",
      "K value:  8 cross_val_score:  0.8845257300427984\n",
      "K value:  9 cross_val_score:  0.8834047164564168\n",
      "K value:  10 cross_val_score:  0.8844077098299113\n",
      "K value:  11 cross_val_score:  0.8838472291493126\n",
      "K value:  12 cross_val_score:  0.885410929512539\n",
      "K value:  13 cross_val_score:  0.8850273181236187\n",
      "K value:  14 cross_val_score:  0.8853517670826403\n",
      "K value:  15 cross_val_score:  0.8852633411409983\n",
      "K value:  16 cross_val_score:  0.8857647899546599\n",
      "K value:  17 cross_val_score:  0.8856172973292911\n",
      "K value:  18 cross_val_score:  0.8859417462883126\n",
      "K value:  19 cross_val_score:  0.885882705717178\n",
      "K value:  20 cross_val_score:  0.8861778215308769\n"
     ]
    }
   ],
   "source": [
    "from sklearn.neighbors import KNeighborsClassifier\n",
    "from sklearn.model_selection import cross_val_score\n",
    "\n",
    "k_values = np.arange(1,21)\n",
    "cross_val_knn_list = []\n",
    "\n",
    "for k in k_values:\n",
    "    knn_model = KNeighborsClassifier(n_neighbors=k)\n",
    "    knn_model.fit(x_smt_tr,y_smt_tr)\n",
    "    print('K value: ', k, 'cross_val_score: ', cross_val_score(knn_model, x_tr,y_tr,cv=10).mean())\n",
    "    cross_val_knn_list.append(cross_val_score(knn_model, x_tr,y_tr,cv=10).mean())\n"
   ]
  },
  {
   "cell_type": "code",
   "execution_count": 133,
   "id": "4ef0d77f",
   "metadata": {},
   "outputs": [
    {
     "name": "stdout",
     "output_type": "stream",
     "text": [
      "K value:  21 cross_val_score:  0.8858532942340785\n",
      "K value:  22 cross_val_score:  0.8857942275503516\n",
      "K value:  23 cross_val_score:  0.8855876334244662\n",
      "K value:  24 cross_val_score:  0.8859417201757204\n",
      "K value:  25 cross_val_score:  0.8859711490672147\n",
      "K value:  26 cross_val_score:  0.8862662474725187\n",
      "K value:  27 cross_val_score:  0.8860597316844101\n",
      "K value:  28 cross_val_score:  0.8862367750600372\n",
      "K value:  29 cross_val_score:  0.8857940621706005\n",
      "K value:  30 cross_val_score:  0.8860596098256464\n",
      "K value:  31 cross_val_score:  0.8861776996721128\n",
      "K value:  32 cross_val_score:  0.8861776735595207\n",
      "K value:  33 cross_val_score:  0.8868856729780802\n",
      "K value:  34 cross_val_score:  0.8866201949566139\n",
      "K value:  35 cross_val_score:  0.8865317167897876\n",
      "K value:  36 cross_val_score:  0.8856171319495401\n",
      "K value:  37 cross_val_score:  0.8861187113261628\n",
      "K value:  38 cross_val_score:  0.8860597403886075\n",
      "K value:  39 cross_val_score:  0.8861778128266794\n",
      "K value:  40 cross_val_score:  0.885853242008894\n"
     ]
    }
   ],
   "source": [
    "from sklearn.neighbors import KNeighborsClassifier\n",
    "from sklearn.model_selection import cross_val_score\n",
    "\n",
    "k_values = np.arange(21,41)\n",
    "cross_val_knn = []\n",
    "\n",
    "for k in k_values:\n",
    "    knn_model = KNeighborsClassifier(n_neighbors=k)\n",
    "    knn_model.fit(x_smt_tr,y_smt_tr)\n",
    "    print('K value: ', k, 'cross_val_score: ', cross_val_score(knn_model, x_tr,y_tr,cv=10).mean())\n",
    "    cross_val_knn.append(cross_val_score(knn_model, x_tr,y_tr,cv=10).mean())"
   ]
  },
  {
   "cell_type": "code",
   "execution_count": 126,
   "id": "b956b243",
   "metadata": {},
   "outputs": [
    {
     "data": {
      "text/plain": [
       "0.8868856729780802"
      ]
     },
     "execution_count": 126,
     "metadata": {},
     "output_type": "execute_result"
    }
   ],
   "source": [
    "cross_val_knn_max = max(cross_val_knn)\n",
    "cross_val_knn_max"
   ]
  },
  {
   "cell_type": "code",
   "execution_count": 127,
   "id": "86ac2b93",
   "metadata": {},
   "outputs": [
    {
     "name": "stdout",
     "output_type": "stream",
     "text": [
      "The best value of k is 33 and cross val score is  0.8868856729780802\n"
     ]
    }
   ],
   "source": [
    "print('The best value of k is 33 and cross val score is ', cross_val_knn_max)"
   ]
  },
  {
   "cell_type": "code",
   "execution_count": 172,
   "id": "02117ac0",
   "metadata": {},
   "outputs": [
    {
     "data": {
      "text/plain": [
       "KNeighborsClassifier(n_neighbors=33)"
      ]
     },
     "execution_count": 172,
     "metadata": {},
     "output_type": "execute_result"
    }
   ],
   "source": [
    "from sklearn.neighbors import KNeighborsClassifier\n",
    "from sklearn.model_selection import cross_val_score\n",
    "knn_model = KNeighborsClassifier(n_neighbors=33)\n",
    "knn_model.fit(x_smt_tr,y_smt_tr)"
   ]
  },
  {
   "cell_type": "code",
   "execution_count": 170,
   "id": "5e37b45d",
   "metadata": {},
   "outputs": [
    {
     "data": {
      "text/plain": [
       "0.885853242008894"
      ]
     },
     "execution_count": 170,
     "metadata": {},
     "output_type": "execute_result"
    }
   ],
   "source": [
    "cross_val_score_knn_best = cross_val_score(knn_model, x_tr,y_tr,cv=10).mean()\n",
    "cross_val_score_knn_best"
   ]
  },
  {
   "cell_type": "code",
   "execution_count": 171,
   "id": "df91f637",
   "metadata": {},
   "outputs": [
    {
     "data": {
      "text/plain": [
       "0.84"
      ]
     },
     "execution_count": 171,
     "metadata": {},
     "output_type": "execute_result"
    }
   ],
   "source": [
    "auroc_knn = round(roc_auc_score(y_te, knn_model.predict_proba(x_te)[:,1]),2)\n",
    "auroc_knn"
   ]
  },
  {
   "cell_type": "markdown",
   "id": "46b94ca3",
   "metadata": {},
   "source": [
    "##### Understanding\n",
    "0.84 is the AUROC value of KNN model which is less than logistic regression model."
   ]
  },
  {
   "cell_type": "markdown",
   "id": "e060fcf0",
   "metadata": {},
   "source": [
    "### Decision Tree"
   ]
  },
  {
   "cell_type": "code",
   "execution_count": 137,
   "id": "7c9547b6",
   "metadata": {},
   "outputs": [
    {
     "name": "stdout",
     "output_type": "stream",
     "text": [
      "Depth:  1 cross_val_score:  0.8814574482252577\n",
      "Depth:  5 cross_val_score:  0.9008406687957133\n",
      "Depth:  6 cross_val_score:  0.9003686401693489\n",
      "Depth:  7 cross_val_score:  0.899188411927884\n",
      "Depth:  8 cross_val_score:  0.8997783911335564\n",
      "Depth:  9 cross_val_score:  0.8992769423198951\n",
      "Depth:  10 cross_val_score:  0.8960903704593466\n",
      "Depth:  12 cross_val_score:  0.8927270685742785\n",
      "Depth:  15 cross_val_score:  0.8881541791898308\n"
     ]
    }
   ],
   "source": [
    "from sklearn.tree import DecisionTreeClassifier\n",
    "\n",
    "cross_val_dt_list = []\n",
    "\n",
    "for d in [1,5,6,7,8,9,10,12,15]:\n",
    "    dt_model = DecisionTreeClassifier(max_depth = d, random_state = 0)\n",
    "    dt_model.fit(x_smt_tr,y_smt_tr)\n",
    "    print('Depth: ', d, 'cross_val_score: ', cross_val_score(dt_model, x_tr, y_tr, cv=10).mean())\n",
    "    cross_val_dt_list.append(cross_val_score(dt_model, x_tr, y_tr, cv=10).mean())"
   ]
  },
  {
   "cell_type": "code",
   "execution_count": 143,
   "id": "d7269766",
   "metadata": {},
   "outputs": [
    {
     "name": "stdout",
     "output_type": "stream",
     "text": [
      "The best depth is 5 and cross val score is  0.9008406687957133\n"
     ]
    }
   ],
   "source": [
    "cross_val_dt_max = max(cross_val_dt_list)\n",
    "print('The best depth is 5 and cross val score is ', cross_val_dt_max)"
   ]
  },
  {
   "cell_type": "code",
   "execution_count": 140,
   "id": "9076565c",
   "metadata": {},
   "outputs": [
    {
     "data": {
      "text/plain": [
       "DecisionTreeClassifier(max_depth=5, random_state=0)"
      ]
     },
     "execution_count": 140,
     "metadata": {},
     "output_type": "execute_result"
    }
   ],
   "source": [
    "from sklearn.tree import DecisionTreeClassifier\n",
    "dt_model = DecisionTreeClassifier(max_depth = 5, random_state = 0)\n",
    "dt_model.fit(x_smt_tr,y_smt_tr)"
   ]
  },
  {
   "cell_type": "code",
   "execution_count": 141,
   "id": "d9d8b83a",
   "metadata": {},
   "outputs": [
    {
     "data": {
      "text/plain": [
       "0.9008406687957133"
      ]
     },
     "execution_count": 141,
     "metadata": {},
     "output_type": "execute_result"
    }
   ],
   "source": [
    "cross_val_dt_best = cross_val_score(dt_model, x_tr, y_tr, cv=10).mean()\n",
    "cross_val_dt_best"
   ]
  },
  {
   "cell_type": "code",
   "execution_count": 144,
   "id": "9e3342e6",
   "metadata": {},
   "outputs": [
    {
     "data": {
      "text/plain": [
       "0.87"
      ]
     },
     "execution_count": 144,
     "metadata": {},
     "output_type": "execute_result"
    }
   ],
   "source": [
    "auroc_dt = round(roc_auc_score(y_te, dt_model.predict_proba(x_te)[:,1]),2)\n",
    "auroc_dt"
   ]
  },
  {
   "cell_type": "markdown",
   "id": "956e1d00",
   "metadata": {},
   "source": [
    "##### Understanding\n",
    "0.87 is the AUROC value of Decision Tree Model which is still less than logistic regression model."
   ]
  },
  {
   "cell_type": "markdown",
   "id": "46bdef3a",
   "metadata": {},
   "source": [
    "### Random Forest"
   ]
  },
  {
   "cell_type": "code",
   "execution_count": 145,
   "id": "83b00d09",
   "metadata": {},
   "outputs": [
    {
     "name": "stdout",
     "output_type": "stream",
     "text": [
      "Depth:  1 cross_val_score:  0.8814574482252577\n",
      "Depth:  5 cross_val_score:  0.8960614028903157\n",
      "Depth:  10 cross_val_score:  0.9041449910390286\n",
      "Depth:  15 cross_val_score:  0.9039384578425255\n",
      "Depth:  20 cross_val_score:  0.9034663943993714\n",
      "Depth:  22 cross_val_score:  0.9024633923216794\n",
      "Depth:  24 cross_val_score:  0.9029647105723795\n",
      "Depth:  26 cross_val_score:  0.9020796503697979\n",
      "Depth:  28 cross_val_score:  0.9025221891752861\n",
      "Depth:  30 cross_val_score:  0.9021387518703146\n",
      "Depth:  32 cross_val_score:  0.9034959103328397\n",
      "Depth:  34 cross_val_score:  0.9034958842202476\n",
      "Depth:  36 cross_val_score:  0.9034073886450263\n"
     ]
    }
   ],
   "source": [
    "from sklearn.ensemble import RandomForestClassifier\n",
    "from sklearn.model_selection import cross_val_score\n",
    "\n",
    "cross_val_rf = []\n",
    "\n",
    "for d in [1,5,10,15,20,22,24,26,28,30,32,34,36]:\n",
    "    rf_model = RandomForestClassifier(max_depth = d, random_state = 1)\n",
    "    rf_model.fit(x_smt_tr,y_smt_tr)\n",
    "    print('Depth: ', d, 'cross_val_score: ', cross_val_score(rf_model, x_tr, y_tr, cv=10).mean())\n",
    "    cross_val_rf.append(cross_val_score(rf_model, x_tr, y_tr, cv=10).mean())"
   ]
  },
  {
   "cell_type": "code",
   "execution_count": 149,
   "id": "2e948188",
   "metadata": {},
   "outputs": [
    {
     "name": "stdout",
     "output_type": "stream",
     "text": [
      "The best value of max_depth is 10 and cross val score is  0.9041449910390286\n"
     ]
    }
   ],
   "source": [
    "cross_val_rf_max = max(cross_val_rf)\n",
    "print(\"The best value of max_depth is 10 and cross val score is \", cross_val_rf_max)"
   ]
  },
  {
   "cell_type": "code",
   "execution_count": 150,
   "id": "6e6876ea",
   "metadata": {},
   "outputs": [
    {
     "data": {
      "text/plain": [
       "RandomForestClassifier(max_depth=10, random_state=0)"
      ]
     },
     "execution_count": 150,
     "metadata": {},
     "output_type": "execute_result"
    }
   ],
   "source": [
    "from sklearn.ensemble import RandomForestClassifier\n",
    "rf_model = RandomForestClassifier(max_depth = 10, random_state = 0)\n",
    "rf_model.fit(x_smt_tr,y_smt_tr)"
   ]
  },
  {
   "cell_type": "code",
   "execution_count": 155,
   "id": "93e581c4",
   "metadata": {},
   "outputs": [
    {
     "data": {
      "text/plain": [
       "0.9035844755416405"
      ]
     },
     "execution_count": 155,
     "metadata": {},
     "output_type": "execute_result"
    }
   ],
   "source": [
    "cross_val_rf_best = cross_val_score(rf_model, x_tr, y_tr, cv=10).mean()\n",
    "cross_val_rf_best"
   ]
  },
  {
   "cell_type": "code",
   "execution_count": 153,
   "id": "bb424d9a",
   "metadata": {},
   "outputs": [
    {
     "data": {
      "text/plain": [
       "0.9"
      ]
     },
     "execution_count": 153,
     "metadata": {},
     "output_type": "execute_result"
    }
   ],
   "source": [
    "auroc_rf = roc_auc_score(y_te, rf_model.predict_proba(x_te)[:,1])\n",
    "auroc_rf = round(auroc_rf, 2)\n",
    "auroc_rf"
   ]
  },
  {
   "cell_type": "markdown",
   "id": "0e93f899",
   "metadata": {},
   "source": [
    "##### Understanding\n",
    "0.9 is the auroc score of random forest model. Out of all the model trained so far, random forest gives the best result with good auroc value."
   ]
  },
  {
   "cell_type": "markdown",
   "id": "629beffe",
   "metadata": {},
   "source": [
    "### Gradient Boosting"
   ]
  },
  {
   "cell_type": "code",
   "execution_count": 156,
   "id": "c0df4ae9",
   "metadata": {},
   "outputs": [
    {
     "name": "stdout",
     "output_type": "stream",
     "text": [
      "Learning rate:  0.01 cross_val_score:  0.8856469090089314\n",
      "Learning rate:  0.05 cross_val_score:  0.9032895425160875\n",
      "Learning rate:  0.08 cross_val_score:  0.9043810575773955\n",
      "Learning rate:  0.1 cross_val_score:  0.9047940456326253\n",
      "Learning rate:  0.15 cross_val_score:  0.9069771976140053\n",
      "Learning rate:  0.2 cross_val_score:  0.9067412268218102\n",
      "Learning rate:  0.3 cross_val_score:  0.9066821775464782\n",
      "Learning rate:  0.5 cross_val_score:  0.9051775699795712\n",
      "Learning rate:  0.7 cross_val_score:  0.9044989124105319\n",
      "Learning rate:  0.9 cross_val_score:  0.9026991368047413\n",
      "Learning rate:  1 cross_val_score:  0.9016666274977784\n"
     ]
    }
   ],
   "source": [
    "from sklearn.ensemble import GradientBoostingClassifier\n",
    "\n",
    "cross_val_gb = []\n",
    "for lr in [0.01,0.05,0.08,0.1,0.15,0.2,0.3,0.5,0.7,0.9,1]:\n",
    "    gb_model = GradientBoostingClassifier(learning_rate = lr)\n",
    "    gb_model.fit(x_smt_tr, y_smt_tr)\n",
    "    print('Learning rate: ', lr, 'cross_val_score: ', cross_val_score(gb_model,x_tr,y_tr,cv=10).mean())\n",
    "    cross_val_gb.append(cross_val_score(gb_model,x_tr,y_tr,cv=10).mean())"
   ]
  },
  {
   "cell_type": "code",
   "execution_count": 157,
   "id": "3b2a37ba",
   "metadata": {},
   "outputs": [
    {
     "name": "stdout",
     "output_type": "stream",
     "text": [
      "The best learning rate is 0.15 and cross val score is  0.9069771976140053\n"
     ]
    }
   ],
   "source": [
    "cross_val_gb_max = max(cross_val_gb)\n",
    "print('The best learning rate is 0.15 and cross val score is ', cross_val_gb_max)"
   ]
  },
  {
   "cell_type": "code",
   "execution_count": 158,
   "id": "304814c4",
   "metadata": {},
   "outputs": [
    {
     "data": {
      "text/plain": [
       "GradientBoostingClassifier(learning_rate=0.15)"
      ]
     },
     "execution_count": 158,
     "metadata": {},
     "output_type": "execute_result"
    }
   ],
   "source": [
    "from sklearn.ensemble import GradientBoostingClassifier\n",
    "gb_model = GradientBoostingClassifier(learning_rate = 0.15)\n",
    "gb_model.fit(x_smt_tr, y_smt_tr)"
   ]
  },
  {
   "cell_type": "code",
   "execution_count": 159,
   "id": "5c8cdb6f",
   "metadata": {},
   "outputs": [
    {
     "data": {
      "text/plain": [
       "0.9069771976140053"
      ]
     },
     "execution_count": 159,
     "metadata": {},
     "output_type": "execute_result"
    }
   ],
   "source": [
    "cross_val_gb_best = cross_val_score(gb_model,x_tr,y_tr,cv=10).mean()\n",
    "cross_val_gb_best"
   ]
  },
  {
   "cell_type": "code",
   "execution_count": 160,
   "id": "cdcaa961",
   "metadata": {},
   "outputs": [
    {
     "data": {
      "text/plain": [
       "0.9"
      ]
     },
     "execution_count": 160,
     "metadata": {},
     "output_type": "execute_result"
    }
   ],
   "source": [
    "auroc_gb = roc_auc_score(y_te, gb_model.predict_proba(x_te)[:,1])\n",
    "auroc_gb = round(auroc_gb,2)\n",
    "auroc_gb"
   ]
  },
  {
   "cell_type": "markdown",
   "id": "fd518eb2",
   "metadata": {},
   "source": [
    "##### Understanding\n",
    "0.9 is the auroc score of gradient boosting model. Out of all the models trained so far, random forest and gradient boosting gives the best result with good auroc value of 0.9"
   ]
  },
  {
   "cell_type": "markdown",
   "id": "4ed9c92d",
   "metadata": {},
   "source": [
    "### XGBoost"
   ]
  },
  {
   "cell_type": "code",
   "execution_count": 164,
   "id": "9bdb5530",
   "metadata": {},
   "outputs": [
    {
     "name": "stdout",
     "output_type": "stream",
     "text": [
      "Learning rate:  0.01 cross val score:  0.8821360796817048\n",
      "Learning rate:  0.05 cross val score:  0.9038499796756989\n",
      "Learning rate:  0.08 cross val score:  0.904469640194591\n",
      "Learning rate:  0.1 cross val score:  0.9060921635240161\n",
      "Learning rate:  0.15 cross val score:  0.9061217490910641\n",
      "Learning rate:  0.2 cross val score:  0.90618065039504\n",
      "Learning rate:  0.3 cross val score:  0.9046464398526902\n",
      "Learning rate:  0.5 cross val score:  0.9029651370780531\n",
      "Learning rate:  0.7 cross val score:  0.8992770380660666\n",
      "Learning rate:  0.9 cross val score:  0.8962972170069572\n",
      "Learning rate:  1 cross val score:  0.8957071681677056\n"
     ]
    }
   ],
   "source": [
    "import xgboost as xgb\n",
    "\n",
    "cross_val_xgb = []\n",
    "for lr in [0.01,0.05,0.08,0.1,0.15,0.2,0.3,0.5,0.7,0.9,1]:\n",
    "    xgb_model = xgb.XGBClassifier(colsample_bytree = 0.4, learning_rate = lr, n_estimators = 100)\n",
    "    xgb_model.fit(x_smt_tr,y_smt_tr)\n",
    "    print('Learning rate: ', lr, 'cross val score: ', cross_val_score(xgb_model, x_tr, y_tr, cv=10).mean())\n",
    "    cross_val_xgb.append(cross_val_score(xgb_model, x_tr, y_tr, cv=10).mean())"
   ]
  },
  {
   "cell_type": "code",
   "execution_count": 165,
   "id": "a32a0443",
   "metadata": {},
   "outputs": [
    {
     "name": "stdout",
     "output_type": "stream",
     "text": [
      "the best learning rate is 0.2 and cross val score is  0.90618065039504\n"
     ]
    }
   ],
   "source": [
    "cross_val_xgb_max = max(cross_val_xgb)\n",
    "print('the best learning rate is 0.2 and cross val score is ', cross_val_xgb_max)"
   ]
  },
  {
   "cell_type": "code",
   "execution_count": 166,
   "id": "44f464e2",
   "metadata": {},
   "outputs": [
    {
     "data": {
      "text/plain": [
       "XGBClassifier(base_score=None, booster=None, callbacks=None,\n",
       "              colsample_bylevel=None, colsample_bynode=None,\n",
       "              colsample_bytree=0.4, device=None, early_stopping_rounds=None,\n",
       "              enable_categorical=False, eval_metric=None, feature_types=None,\n",
       "              gamma=None, grow_policy=None, importance_type=None,\n",
       "              interaction_constraints=None, learning_rate=0.2, max_bin=None,\n",
       "              max_cat_threshold=None, max_cat_to_onehot=None,\n",
       "              max_delta_step=None, max_depth=None, max_leaves=None,\n",
       "              min_child_weight=None, missing=nan, monotone_constraints=None,\n",
       "              multi_strategy=None, n_estimators=100, n_jobs=None,\n",
       "              num_parallel_tree=None, random_state=None, ...)"
      ]
     },
     "execution_count": 166,
     "metadata": {},
     "output_type": "execute_result"
    }
   ],
   "source": [
    "import xgboost as xgb\n",
    "xgb_model = xgb.XGBClassifier(colsample_bytree = 0.4, learning_rate = 0.2, n_estimators = 100)\n",
    "xgb_model.fit(x_smt_tr,y_smt_tr)"
   ]
  },
  {
   "cell_type": "code",
   "execution_count": 167,
   "id": "3422961f",
   "metadata": {},
   "outputs": [
    {
     "data": {
      "text/plain": [
       "0.90618065039504"
      ]
     },
     "execution_count": 167,
     "metadata": {},
     "output_type": "execute_result"
    }
   ],
   "source": [
    "cross_val_xgb_best = cross_val_score(xgb_model, x_tr, y_tr, cv=10).mean()\n",
    "cross_val_xgb_best"
   ]
  },
  {
   "cell_type": "code",
   "execution_count": 168,
   "id": "981cc49f",
   "metadata": {},
   "outputs": [
    {
     "data": {
      "text/plain": [
       "0.91"
      ]
     },
     "execution_count": 168,
     "metadata": {},
     "output_type": "execute_result"
    }
   ],
   "source": [
    "auroc_xgb = roc_auc_score(y_te, xgb_model.predict_proba(x_te)[:,1])\n",
    "auroc_xgb = round(auroc_xgb, 2)\n",
    "auroc_xgb"
   ]
  },
  {
   "cell_type": "markdown",
   "id": "9c1a7e2c",
   "metadata": {},
   "source": [
    "### Interpretations\n",
    "\n",
    "Six machine learning models, including Logistic Regression, KNN, Decision Tree, Random Forest, Gradient Boosting, and XGBoost, were trained on the data.\n",
    "\n",
    "Among these models, **XGBoost** achieved the highest cross-validation score of **0.91**, indicating that it is the most suitable model for the given data."
   ]
  },
  {
   "cell_type": "markdown",
   "id": "0fb65eca",
   "metadata": {},
   "source": [
    "## Cross Validation Score for ML Models"
   ]
  },
  {
   "cell_type": "code",
   "execution_count": 173,
   "id": "fdd46a52",
   "metadata": {},
   "outputs": [
    {
     "name": "stdout",
     "output_type": "stream",
     "text": [
      "Cross Validation Score for Logistic Regression Model:  0.8924028372201928\n",
      "Cross Validation Score for K-Nearest Neighbors Classification Model:  0.885853242008894\n",
      "Cross Validation Score for Decision Tree Classification Model:  0.9008406687957133\n",
      "Cross Validation Score for Random Forest Classification Model:  0.9035844755416405\n",
      "Cross Validation Score for Gradient Boosting Classification Model:  0.9069771976140053\n",
      "Cross Validation Score for Extreme-Gradient Boosting Classification Model:  0.90618065039504\n"
     ]
    }
   ],
   "source": [
    "print('Cross Validation Score for Logistic Regression Model: ', cross_val_log)\n",
    "print('Cross Validation Score for K-Nearest Neighbors Classification Model: ', cross_val_score_knn_best)\n",
    "print('Cross Validation Score for Decision Tree Classification Model: ', cross_val_dt_best)\n",
    "print('Cross Validation Score for Random Forest Classification Model: ', cross_val_rf_best)\n",
    "print('Cross Validation Score for Gradient Boosting Classification Model: ', cross_val_gb_best)\n",
    "print('Cross Validation Score for Extreme-Gradient Boosting Classification Model: ', cross_val_xgb_best)"
   ]
  },
  {
   "cell_type": "markdown",
   "id": "c17b8925",
   "metadata": {},
   "source": [
    "## AUROC Score for ML Models"
   ]
  },
  {
   "cell_type": "code",
   "execution_count": 174,
   "id": "5e96d725",
   "metadata": {},
   "outputs": [
    {
     "name": "stdout",
     "output_type": "stream",
     "text": [
      "AUROC Score for Logistic Regression Model:  0.88\n",
      "AUROC Score for K-Nearest Neighbors Classification Model:  0.84\n",
      "AUROC Score for Decision Tree Classification Model:  0.87\n",
      "AUROC Score for Random Forest Classification Model:  0.9\n",
      "AUROC Score for Gradient Boosting Classification Model:  0.9\n",
      "AUROC Score for Extreme-Gradient Boosting Classification Model:  0.91\n"
     ]
    }
   ],
   "source": [
    "print('AUROC Score for Logistic Regression Model: ', auroc_log)\n",
    "print('AUROC Score for K-Nearest Neighbors Classification Model: ', auroc_knn)\n",
    "print('AUROC Score for Decision Tree Classification Model: ', auroc_dt)\n",
    "print('AUROC Score for Random Forest Classification Model: ', auroc_rf)\n",
    "print('AUROC Score for Gradient Boosting Classification Model: ', auroc_gb)\n",
    "print('AUROC Score for Extreme-Gradient Boosting Classification Model: ', auroc_xgb)"
   ]
  },
  {
   "cell_type": "markdown",
   "id": "9f9504d7",
   "metadata": {},
   "source": [
    "## Feature Importance: XGBoost Model"
   ]
  },
  {
   "cell_type": "code",
   "execution_count": 186,
   "id": "974e8d1a",
   "metadata": {},
   "outputs": [
    {
     "data": {
      "text/html": [
       "<div>\n",
       "<style scoped>\n",
       "    .dataframe tbody tr th:only-of-type {\n",
       "        vertical-align: middle;\n",
       "    }\n",
       "\n",
       "    .dataframe tbody tr th {\n",
       "        vertical-align: top;\n",
       "    }\n",
       "\n",
       "    .dataframe thead th {\n",
       "        text-align: right;\n",
       "    }\n",
       "</style>\n",
       "<table border=\"1\" class=\"dataframe\">\n",
       "  <thead>\n",
       "    <tr style=\"text-align: right;\">\n",
       "      <th></th>\n",
       "      <th>Feature</th>\n",
       "      <th>Importance</th>\n",
       "    </tr>\n",
       "  </thead>\n",
       "  <tbody>\n",
       "    <tr>\n",
       "      <th>0</th>\n",
       "      <td>age</td>\n",
       "      <td>894.0</td>\n",
       "    </tr>\n",
       "    <tr>\n",
       "      <th>5</th>\n",
       "      <td>day</td>\n",
       "      <td>832.0</td>\n",
       "    </tr>\n",
       "    <tr>\n",
       "      <th>7</th>\n",
       "      <td>dur</td>\n",
       "      <td>770.0</td>\n",
       "    </tr>\n",
       "    <tr>\n",
       "      <th>6</th>\n",
       "      <td>mon</td>\n",
       "      <td>595.0</td>\n",
       "    </tr>\n",
       "    <tr>\n",
       "      <th>8</th>\n",
       "      <td>num_calls</td>\n",
       "      <td>377.0</td>\n",
       "    </tr>\n",
       "    <tr>\n",
       "      <th>1</th>\n",
       "      <td>job</td>\n",
       "      <td>347.0</td>\n",
       "    </tr>\n",
       "    <tr>\n",
       "      <th>2</th>\n",
       "      <td>marital</td>\n",
       "      <td>322.0</td>\n",
       "    </tr>\n",
       "    <tr>\n",
       "      <th>3</th>\n",
       "      <td>education_qual</td>\n",
       "      <td>310.0</td>\n",
       "    </tr>\n",
       "    <tr>\n",
       "      <th>9</th>\n",
       "      <td>prev_outcome</td>\n",
       "      <td>292.0</td>\n",
       "    </tr>\n",
       "    <tr>\n",
       "      <th>4</th>\n",
       "      <td>call_type</td>\n",
       "      <td>186.0</td>\n",
       "    </tr>\n",
       "  </tbody>\n",
       "</table>\n",
       "</div>"
      ],
      "text/plain": [
       "          Feature  Importance\n",
       "0             age       894.0\n",
       "5             day       832.0\n",
       "7             dur       770.0\n",
       "6             mon       595.0\n",
       "8       num_calls       377.0\n",
       "1             job       347.0\n",
       "2         marital       322.0\n",
       "3  education_qual       310.0\n",
       "9    prev_outcome       292.0\n",
       "4       call_type       186.0"
      ]
     },
     "execution_count": 186,
     "metadata": {},
     "output_type": "execute_result"
    }
   ],
   "source": [
    "ft_imp_xgb = xgb_model.get_booster().get_score(importance_type='weight')\n",
    "ft_imp_xgb = list(ft_imp_xgb.items())\n",
    "\n",
    "# Create a DataFrame from the list\n",
    "imp = pd.DataFrame(ft_imp_xgb, columns=['Feature', 'Importance'])\n",
    "\n",
    "# Sort the DataFrame by Importance in descending order\n",
    "imp.sort_values('Importance', ascending=False, inplace=True)\n",
    "imp"
   ]
  },
  {
   "cell_type": "code",
   "execution_count": 189,
   "id": "7ffde8d9",
   "metadata": {},
   "outputs": [
    {
     "data": {
      "image/png": "[encoded data removed]",
      "text/plain": [
       "<Figure size 720x360 with 1 Axes>"
      ]
     },
     "metadata": {
      "needs_background": "light"
     },
     "output_type": "display_data"
    }
   ],
   "source": [
    "importance_dict = xgb_model.get_booster().get_score(importance_type='weight')\n",
    "\n",
    "# Extracting feature names and importance values\n",
    "features = list(importance_dict.keys())\n",
    "importance_values = list(importance_dict.values())\n",
    "\n",
    "# Sorting features based on importance values\n",
    "sorted_idx = np.argsort(importance_values)\n",
    "\n",
    "plt.figure(figsize=(10, 5))\n",
    "plt.barh(np.array(features)[sorted_idx], np.array(importance_values)[sorted_idx])\n",
    "plt.xlabel(\"XGBoost Feature Importance\")\n",
    "plt.title(\"Feature Importance\")"
   ]
  },
  {
   "cell_type": "markdown",
   "id": "8ef8268c",
   "metadata": {},
   "source": [
    "## Top 5 Important Features\n",
    "\n",
    "1. Age\n",
    "\n",
    "2. Day\n",
    "\n",
    "3. Duration of the call\n",
    "\n",
    "4. Month\n",
    "\n",
    "5. Number of calls"
   ]
  }
 ],
 "metadata": {
  "kernelspec": {
   "display_name": "Python 3 (ipykernel)",
   "language": "python",
   "name": "python3"
  },
  "language_info": {
   "codemirror_mode": {
    "name": "ipython",
    "version": 3
   },
   "file_extension": ".py",
   "mimetype": "text/x-python",
   "name": "python",
   "nbconvert_exporter": "python",
   "pygments_lexer": "ipython3",
   "version": "3.9.12"
  }
 },
 "nbformat": 4,
 "nbformat_minor": 5
}
